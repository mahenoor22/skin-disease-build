{
 "cells": [
  {
   "cell_type": "code",
   "execution_count": 1,
   "metadata": {},
   "outputs": [],
   "source": [
    "import os"
   ]
  },
  {
   "cell_type": "code",
   "execution_count": 2,
   "metadata": {},
   "outputs": [],
   "source": [
    "train_path = 'train'\n",
    "test_path = 'test'"
   ]
  },
  {
   "cell_type": "code",
   "execution_count": 3,
   "metadata": {},
   "outputs": [
    {
     "name": "stdout",
     "output_type": "stream",
     "text": [
      "Acne and Rosacea Photos   840\n",
      "Actinic Keratosis Basal Cell Carcinoma and other Malignant Lesions   1149\n",
      "Atopic Dermatitis Photos   489\n",
      "Bullous Disease Photos   448\n",
      "Cellulitis Impetigo and other Bacterial Infections   288\n",
      "Eczema Photos   1235\n",
      "Exanthems and Drug Eruptions   404\n",
      "Hair Loss Photos Alopecia and other Hair Diseases   239\n",
      "Herpes HPV and other STDs Photos   405\n",
      "Light Diseases and Disorders of Pigmentation   568\n",
      "Lupus and other Connective Tissue diseases   420\n",
      "Melanoma Skin Cancer Nevi and Moles   463\n",
      "Nail Fungus and other Nail Disease   1040\n",
      "Poison Ivy Photos and other Contact Dermatitis   260\n",
      "Psoriasis pictures Lichen Planus and related diseases   1405\n",
      "Scabies Lyme Disease and other Infestations and Bites   431\n",
      "Seborrheic Keratoses and other Benign Tumors   1371\n",
      "Systemic Disease   606\n",
      "Tinea Ringworm Candidiasis and other Fungal Infections   1300\n",
      "Urticaria Hives   212\n",
      "Vascular Tumors   482\n",
      "Vasculitis Photos   416\n",
      "Warts Molluscum and other Viral Infections   1086\n"
     ]
    }
   ],
   "source": [
    "# No of training Images against every class\n",
    "for i in os.listdir(train_path):\n",
    "    print(i,\" \",len(os.listdir(train_path+\"/\"+i)))"
   ]
  },
  {
   "cell_type": "markdown",
   "metadata": {},
   "source": [
    "##### conclusion - Unbalanced Dataset"
   ]
  },
  {
   "cell_type": "code",
   "execution_count": 4,
   "metadata": {},
   "outputs": [
    {
     "name": "stdout",
     "output_type": "stream",
     "text": [
      "Acne and Rosacea Photos   312\n",
      "Actinic Keratosis Basal Cell Carcinoma and other Malignant Lesions   288\n",
      "Atopic Dermatitis Photos   123\n",
      "Bullous Disease Photos   113\n",
      "Cellulitis Impetigo and other Bacterial Infections   73\n",
      "Eczema Photos   309\n",
      "Exanthems and Drug Eruptions   101\n",
      "Hair Loss Photos Alopecia and other Hair Diseases   60\n",
      "Herpes HPV and other STDs Photos   102\n",
      "Light Diseases and Disorders of Pigmentation   143\n",
      "Lupus and other Connective Tissue diseases   105\n",
      "Melanoma Skin Cancer Nevi and Moles   116\n",
      "Nail Fungus and other Nail Disease   261\n",
      "Poison Ivy Photos and other Contact Dermatitis   65\n",
      "Psoriasis pictures Lichen Planus and related diseases   352\n",
      "Scabies Lyme Disease and other Infestations and Bites   108\n",
      "Seborrheic Keratoses and other Benign Tumors   343\n",
      "Systemic Disease   152\n",
      "Tinea Ringworm Candidiasis and other Fungal Infections   325\n",
      "Urticaria Hives   53\n",
      "Vascular Tumors   121\n",
      "Vasculitis Photos   105\n",
      "Warts Molluscum and other Viral Infections   272\n"
     ]
    }
   ],
   "source": [
    "# No of test Images against every class\n",
    "for i in os.listdir(test_path):\n",
    "    print(i,\" \",len(os.listdir(test_path+\"/\"+i)))"
   ]
  },
  {
   "cell_type": "code",
   "execution_count": 9,
   "metadata": {},
   "outputs": [
    {
     "data": {
      "text/plain": [
       "486"
      ]
     },
     "execution_count": 9,
     "metadata": {},
     "output_type": "execute_result"
    }
   ],
   "source": [
    "tot_train_samples = 0\n",
    "for i in os.listdir(train_path):\n",
    "    tot_train_samples += len(os.listdir(train_path+\"/\"+i))\n",
    "tot_train_samples//32"
   ]
  },
  {
   "cell_type": "code",
   "execution_count": null,
   "metadata": {},
   "outputs": [],
   "source": []
  }
 ],
 "metadata": {
  "kernelspec": {
   "display_name": "Python 3",
   "language": "python",
   "name": "python3"
  },
  "language_info": {
   "codemirror_mode": {
    "name": "ipython",
    "version": 3
   },
   "file_extension": ".py",
   "mimetype": "text/x-python",
   "name": "python",
   "nbconvert_exporter": "python",
   "pygments_lexer": "ipython3",
   "version": "3.8.3"
  }
 },
 "nbformat": 4,
 "nbformat_minor": 4
}
