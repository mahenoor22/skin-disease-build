{
  "nbformat": 4,
  "nbformat_minor": 0,
  "metadata": {
    "colab": {
      "name": "detection_model.ipynb",
      "provenance": [],
      "toc_visible": true,
      "authorship_tag": "ABX9TyO2DgN15fx194RVegXUgMDw",
      "include_colab_link": true
    },
    "kernelspec": {
      "name": "python3",
      "display_name": "Python 3"
    }
  },
  "cells": [
    {
      "cell_type": "markdown",
      "metadata": {
        "id": "view-in-github",
        "colab_type": "text"
      },
      "source": [
        "<a href=\"https://colab.research.google.com/github/mahenoor22/skin-disease-build/blob/main/detection_model.ipynb\" target=\"_parent\"><img src=\"https://colab.research.google.com/assets/colab-badge.svg\" alt=\"Open In Colab\"/></a>"
      ]
    },
    {
      "cell_type": "code",
      "metadata": {
        "id": "yaQy9wAcWwgb"
      },
      "source": [
        "import tensorflow as tf\r\n",
        "import pandas as pd\r\n",
        "import numpy as np\r\n",
        "import matplotlib.pyplot as plt\r\n",
        "import matplotlib.image as mpimg\r\n",
        "import os\r\n",
        "import random\r\n",
        "from tensorflow.keras.models import Model\r\n",
        "from tensorflow.keras.layers import Dense,Flatten,Conv2D,MaxPooling2D,Input,BatchNormalization,Dropout\r\n",
        "from tensorflow.keras.optimizers import Adam\r\n",
        "from tensorflow.keras.preprocessing.image import ImageDataGenerator,load_img,img_to_array\r\n",
        "from glob import glob\r\n",
        "from sklearn.model_selection import train_test_split"
      ],
      "execution_count": 38,
      "outputs": []
    },
    {
      "cell_type": "markdown",
      "metadata": {
        "id": "_dgUNafoUj-F"
      },
      "source": [
        "# **CallBack**"
      ]
    },
    {
      "cell_type": "code",
      "metadata": {
        "id": "c12Np8W_UjX8"
      },
      "source": [
        "class myCallback(tf.keras.callbacks.Callback):\r\n",
        "    def on_epoch_end(self, epoch, logs={}):\r\n",
        "        if(logs.get('accuracy')>0.97):\r\n",
        "            print(\"\\nReached 97.0% accuracy so cancelling training!\")\r\n",
        "            self.model.stop_training = True"
      ],
      "execution_count": 39,
      "outputs": []
    },
    {
      "cell_type": "markdown",
      "metadata": {
        "id": "3Wldr7iY3CW1"
      },
      "source": [
        "## **Import Dataset**"
      ]
    },
    {
      "cell_type": "code",
      "metadata": {
        "colab": {
          "base_uri": "https://localhost:8080/"
        },
        "id": "1ifUVWYp0vEA",
        "outputId": "57b841fd-c7df-4181-c3b6-7a2038d9b533"
      },
      "source": [
        "!git clone https://github.com/mahenoor22/skin-disease-build.git"
      ],
      "execution_count": 40,
      "outputs": [
        {
          "output_type": "stream",
          "text": [
            "fatal: destination path 'skin-disease-build' already exists and is not an empty directory.\n"
          ],
          "name": "stdout"
        }
      ]
    },
    {
      "cell_type": "code",
      "metadata": {
        "id": "vXr6YPZB9Lcq",
        "colab": {
          "base_uri": "https://localhost:8080/"
        },
        "outputId": "eaad22d5-5ae4-4252-8a8c-1b7a99b6c05f"
      },
      "source": [
        "train_dir = r\"/content/skin-disease-build/dataset/train\"\r\n",
        "test_dir=r\"/content/skin-disease-build/dataset/test\"\r\n",
        "os.listdir(train_dir)"
      ],
      "execution_count": 43,
      "outputs": [
        {
          "output_type": "execute_result",
          "data": {
            "text/plain": [
              "['Lupus and other Connective Tissue diseases',\n",
              " 'Acne and Rosacea Photos',\n",
              " 'Light Diseases and Disorders of Pigmentation',\n",
              " 'Scabies Lyme Disease and other Infestations and Bites',\n",
              " 'Warts Molluscum and other Viral Infections',\n",
              " 'Cellulitis Impetigo and other Bacterial Infections',\n",
              " 'Systemic Disease',\n",
              " 'Bullous Disease Photos',\n",
              " 'Melanoma Skin Cancer Nevi and Moles',\n",
              " 'Herpes HPV and other STDs Photos',\n",
              " 'Actinic Keratosis Basal Cell Carcinoma and other Malignant Lesions',\n",
              " 'Poison Ivy Photos and other Contact Dermatitis',\n",
              " 'Urticaria Hives',\n",
              " 'Psoriasis pictures Lichen Planus and related diseases',\n",
              " 'Vascular Tumors',\n",
              " 'Nail Fungus and other Nail Disease',\n",
              " 'Hair Loss Photos Alopecia and other Hair Diseases',\n",
              " 'Vasculitis Photos',\n",
              " 'Seborrheic Keratoses and other Benign Tumors',\n",
              " 'Atopic Dermatitis Photos',\n",
              " 'Eczema Photos',\n",
              " 'Tinea Ringworm Candidiasis and other Fungal Infections',\n",
              " 'Exanthems and Drug Eruptions']"
            ]
          },
          "metadata": {
            "tags": []
          },
          "execution_count": 43
        }
      ]
    },
    {
      "cell_type": "markdown",
      "metadata": {
        "id": "qgVgkjkVEMX2"
      },
      "source": [
        "# **Image Generator**"
      ]
    },
    {
      "cell_type": "code",
      "metadata": {
        "id": "NsjJWmU0QjAQ"
      },
      "source": [
        "data_generator = ImageDataGenerator(validation_split = 0.2)"
      ],
      "execution_count": 44,
      "outputs": []
    },
    {
      "cell_type": "code",
      "metadata": {
        "colab": {
          "base_uri": "https://localhost:8080/"
        },
        "id": "ZVsieuoFSGL5",
        "outputId": "330a74b2-c68b-4821-f3e6-40a09491c4d3"
      },
      "source": [
        "train_gen = data_generator.flow_from_directory(train_dir,target_size=(150,150),\r\n",
        "                                              batch_size=20,subset=\"training\",\r\n",
        "                                              class_mode='sparse')\r\n",
        "valid_gen = data_generator.flow_from_directory(test_dir,target_size=(150,150),\r\n",
        "                                              batch_size=20,subset=\"validation\",\r\n",
        "                                              class_mode='sparse')"
      ],
      "execution_count": 45,
      "outputs": [
        {
          "output_type": "stream",
          "text": [
            "Found 12453 images belonging to 23 classes.\n",
            "Found 792 images belonging to 23 classes.\n"
          ],
          "name": "stdout"
        }
      ]
    },
    {
      "cell_type": "markdown",
      "metadata": {
        "id": "6HLbLgulQqJk"
      },
      "source": [
        "#**Model**"
      ]
    },
    {
      "cell_type": "code",
      "metadata": {
        "colab": {
          "base_uri": "https://localhost:8080/"
        },
        "id": "53-Be7c1R0BZ",
        "outputId": "37c7c038-30cd-42ae-a104-a66e5f4f887e"
      },
      "source": [
        "i = Input(shape = (150,150,3))\r\n",
        "x = Conv2D(32,(3,3),activation='relu')(i)\r\n",
        "#x = MaxPooling2D((2,2))(x)\r\n",
        "#x = BatchNormalization()(x)\r\n",
        "x = Conv2D(32,(3,3),activation='relu')(x)\r\n",
        "#x = BatchNormalization()(x)\r\n",
        "x = MaxPooling2D((2,2))(x)\r\n",
        "x = Dropout(0.25)(x)\r\n",
        "x = Conv2D(64,(3,3),activation='relu')(x)\r\n",
        "#x = BatchNormalization()(x)\r\n",
        "x = Conv2D(64,(3,3),activation='relu')(x)\r\n",
        "#x = BatchNormalization()(x)\r\n",
        "x = MaxPooling2D((2,2))(x)\r\n",
        "x = Dropout(0.25)(x)\r\n",
        "# x = Conv2D(128,(3,3),activation='relu')(x)\r\n",
        "# x = BatchNormalization()(x)\r\n",
        "# x = Conv2D(128,(3,3),activation='relu')(x)\r\n",
        "# x = BatchNormalization()(x)\r\n",
        "# x = MaxPooling2D((2,2))(x)\r\n",
        "x = Flatten()(x)\r\n",
        "x = Dense(512,activation='relu')(x)\r\n",
        "x = Dropout(0.5)(x)\r\n",
        "x = Dense(23,activation='softmax')(x)\r\n",
        "\r\n",
        "model = Model(i,x)\r\n",
        "model.summary()"
      ],
      "execution_count": 49,
      "outputs": [
        {
          "output_type": "stream",
          "text": [
            "Model: \"model_4\"\n",
            "_________________________________________________________________\n",
            "Layer (type)                 Output Shape              Param #   \n",
            "=================================================================\n",
            "input_10 (InputLayer)        [(None, 150, 150, 3)]     0         \n",
            "_________________________________________________________________\n",
            "conv2d_52 (Conv2D)           (None, 148, 148, 32)      896       \n",
            "_________________________________________________________________\n",
            "conv2d_53 (Conv2D)           (None, 146, 146, 32)      9248      \n",
            "_________________________________________________________________\n",
            "max_pooling2d_36 (MaxPooling (None, 73, 73, 32)        0         \n",
            "_________________________________________________________________\n",
            "dropout_5 (Dropout)          (None, 73, 73, 32)        0         \n",
            "_________________________________________________________________\n",
            "conv2d_54 (Conv2D)           (None, 71, 71, 64)        18496     \n",
            "_________________________________________________________________\n",
            "conv2d_55 (Conv2D)           (None, 69, 69, 64)        36928     \n",
            "_________________________________________________________________\n",
            "max_pooling2d_37 (MaxPooling (None, 34, 34, 64)        0         \n",
            "_________________________________________________________________\n",
            "dropout_6 (Dropout)          (None, 34, 34, 64)        0         \n",
            "_________________________________________________________________\n",
            "flatten_5 (Flatten)          (None, 73984)             0         \n",
            "_________________________________________________________________\n",
            "dense_10 (Dense)             (None, 512)               37880320  \n",
            "_________________________________________________________________\n",
            "dropout_7 (Dropout)          (None, 512)               0         \n",
            "_________________________________________________________________\n",
            "dense_11 (Dense)             (None, 23)                11799     \n",
            "=================================================================\n",
            "Total params: 37,957,687\n",
            "Trainable params: 37,957,687\n",
            "Non-trainable params: 0\n",
            "_________________________________________________________________\n"
          ],
          "name": "stdout"
        }
      ]
    },
    {
      "cell_type": "markdown",
      "metadata": {
        "id": "mWE6hQqiSdC4"
      },
      "source": [
        "# **Compile and Run Model**"
      ]
    },
    {
      "cell_type": "code",
      "metadata": {
        "id": "eOlB3I4NSQAt"
      },
      "source": [
        "model.compile(optimizer = RMSprop(lr=0.0001),\r\n",
        "             loss = 'sparse_categorical_crossentropy',\r\n",
        "             metrics = ['accuracy'])"
      ],
      "execution_count": 50,
      "outputs": []
    },
    {
      "cell_type": "code",
      "metadata": {
        "colab": {
          "base_uri": "https://localhost:8080/"
        },
        "id": "rZKdv5VxSZqI",
        "outputId": "91586fac-7b2b-486c-8310-3272355af207"
      },
      "source": [
        "r = model.fit(train_gen,steps_per_epoch=64,epochs=30,batch_size=32,verbose=1)"
      ],
      "execution_count": null,
      "outputs": [
        {
          "output_type": "stream",
          "text": [
            "Epoch 1/30\n",
            "64/64 [==============================] - 148s 2s/step - loss: 123.9211 - accuracy: 0.0967\n",
            "Epoch 2/30\n",
            "64/64 [==============================] - 148s 2s/step - loss: 3.0454 - accuracy: 0.1157\n",
            "Epoch 3/30\n",
            "64/64 [==============================] - 148s 2s/step - loss: 2.9601 - accuracy: 0.1075\n",
            "Epoch 4/30\n",
            "32/64 [==============>...............] - ETA: 1:14 - loss: 2.8979 - accuracy: 0.1277"
          ],
          "name": "stdout"
        }
      ]
    },
    {
      "cell_type": "markdown",
      "metadata": {
        "id": "VfDvJMXdlcyG"
      },
      "source": [
        "## **GRAPH**"
      ]
    },
    {
      "cell_type": "code",
      "metadata": {
        "id": "FT0RwFaOSmL2"
      },
      "source": [
        "%matplotlib inline\r\n",
        "import matplotlib.pyplot as plt\r\n",
        "acc = history.history['acc']\r\n",
        "val_acc = history.history['val_acc']\r\n",
        "loss = history.history['loss']\r\n",
        "val_loss = history.history['val_loss']\r\n",
        "\r\n",
        "epochs = range(len(acc))\r\n",
        "\r\n",
        "plt.plot(epochs, acc, 'r', label='Training accuracy')\r\n",
        "plt.plot(epochs, val_acc, 'b', label='Validation accuracy')\r\n",
        "plt.title('Training and validation accuracy')\r\n",
        "plt.legend(loc=0)\r\n",
        "plt.figure()\r\n",
        "\r\n",
        "\r\n",
        "plt.show()"
      ],
      "execution_count": null,
      "outputs": []
    },
    {
      "cell_type": "code",
      "metadata": {
        "id": "G1HghUaklhZh"
      },
      "source": [
        ""
      ],
      "execution_count": null,
      "outputs": []
    }
  ]
}