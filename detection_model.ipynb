{
  "nbformat": 4,
  "nbformat_minor": 0,
  "metadata": {
    "colab": {
      "name": "detection_model.ipynb",
      "provenance": [],
      "toc_visible": true,
      "authorship_tag": "ABX9TyMZQ0Wap5SZTO0GB7YDZzK/",
      "include_colab_link": true
    },
    "kernelspec": {
      "name": "python3",
      "display_name": "Python 3"
    }
  },
  "cells": [
    {
      "cell_type": "markdown",
      "metadata": {
        "id": "view-in-github",
        "colab_type": "text"
      },
      "source": [
        "<a href=\"https://colab.research.google.com/github/mahenoor22/skin-disease-build/blob/main/detection_model.ipynb\" target=\"_parent\"><img src=\"https://colab.research.google.com/assets/colab-badge.svg\" alt=\"Open In Colab\"/></a>"
      ]
    },
    {
      "cell_type": "code",
      "metadata": {
        "id": "yaQy9wAcWwgb"
      },
      "source": [
        "import tensorflow as tf\r\n",
        "import pandas as pd\r\n",
        "import numpy as np\r\n",
        "import matplotlib.pyplot as plt\r\n",
        "import matplotlib.image as mpimg\r\n",
        "import os\r\n",
        "import random\r\n",
        "from tensorflow.keras.models import Model\r\n",
        "from tensorflow.keras.layers import Dense,Flatten,Conv2D,MaxPooling2D,Input,BatchNormalization,Dropout\r\n",
        "from tensorflow.keras.optimizers import Adam\r\n",
        "from tensorflow.keras.preprocessing.image import ImageDataGenerator,load_img,img_to_array\r\n",
        "from glob import glob\r\n",
        "from sklearn.model_selection import train_test_split"
      ],
      "execution_count": 1,
      "outputs": []
    },
    {
      "cell_type": "markdown",
      "metadata": {
        "id": "_dgUNafoUj-F"
      },
      "source": [
        "# **CallBack**"
      ]
    },
    {
      "cell_type": "code",
      "metadata": {
        "id": "c12Np8W_UjX8"
      },
      "source": [
        "class myCallback(tf.keras.callbacks.Callback):\r\n",
        "    def on_epoch_end(self, epoch, logs={}):\r\n",
        "        if(logs.get('acc')>0.97):\r\n",
        "            print(\"\\nReached 97.0% accuracy so cancelling training!\")\r\n",
        "            self.model.stop_training = True"
      ],
      "execution_count": 20,
      "outputs": []
    },
    {
      "cell_type": "markdown",
      "metadata": {
        "id": "3Wldr7iY3CW1"
      },
      "source": [
        "## **Import Dataset**"
      ]
    },
    {
      "cell_type": "code",
      "metadata": {
        "colab": {
          "base_uri": "https://localhost:8080/"
        },
        "id": "1ifUVWYp0vEA",
        "outputId": "5be33a54-accc-41a5-fad9-9917d5e38aca"
      },
      "source": [
        "!git clone https://github.com/mahenoor22/skin-disease-build.git"
      ],
      "execution_count": 4,
      "outputs": [
        {
          "output_type": "stream",
          "text": [
            "fatal: destination path 'skin-disease-build' already exists and is not an empty directory.\n"
          ],
          "name": "stdout"
        }
      ]
    },
    {
      "cell_type": "code",
      "metadata": {
        "colab": {
          "base_uri": "https://localhost:8080/"
        },
        "id": "eUyXJdNf9JxY",
        "outputId": "9fccca8f-e7b2-4d1a-dce6-cfa047346a83"
      },
      "source": [
        "from google.colab import drive\n",
        "drive.mount('/content/drive')"
      ],
      "execution_count": null,
      "outputs": [
        {
          "output_type": "stream",
          "text": [
            "Drive already mounted at /content/drive; to attempt to forcibly remount, call drive.mount(\"/content/drive\", force_remount=True).\n"
          ],
          "name": "stdout"
        }
      ]
    },
    {
      "cell_type": "code",
      "metadata": {
        "id": "vXr6YPZB9Lcq",
        "colab": {
          "base_uri": "https://localhost:8080/"
        },
        "outputId": "9ec5d61a-5bc5-45a2-8673-ab53834c7069"
      },
      "source": [
        "train_dir = r\"/content/skin-disease-build/dataset/train\"\r\n",
        "test_dir=r\"/content/skin-disease-build/dataset/test\"\r\n",
        "os.listdir(train_dir)"
      ],
      "execution_count": 7,
      "outputs": [
        {
          "output_type": "execute_result",
          "data": {
            "text/plain": [
              "['Lupus and other Connective Tissue diseases',\n",
              " 'Acne and Rosacea Photos',\n",
              " 'Light Diseases and Disorders of Pigmentation',\n",
              " 'Scabies Lyme Disease and other Infestations and Bites',\n",
              " 'Warts Molluscum and other Viral Infections',\n",
              " 'Cellulitis Impetigo and other Bacterial Infections',\n",
              " 'Systemic Disease',\n",
              " 'Bullous Disease Photos',\n",
              " 'Melanoma Skin Cancer Nevi and Moles',\n",
              " 'Herpes HPV and other STDs Photos',\n",
              " 'Actinic Keratosis Basal Cell Carcinoma and other Malignant Lesions',\n",
              " 'Poison Ivy Photos and other Contact Dermatitis',\n",
              " 'Urticaria Hives',\n",
              " 'Psoriasis pictures Lichen Planus and related diseases',\n",
              " 'Vascular Tumors',\n",
              " 'Nail Fungus and other Nail Disease',\n",
              " 'Hair Loss Photos Alopecia and other Hair Diseases',\n",
              " 'Vasculitis Photos',\n",
              " 'Seborrheic Keratoses and other Benign Tumors',\n",
              " 'Atopic Dermatitis Photos',\n",
              " 'Eczema Photos',\n",
              " 'Tinea Ringworm Candidiasis and other Fungal Infections',\n",
              " 'Exanthems and Drug Eruptions']"
            ]
          },
          "metadata": {
            "tags": []
          },
          "execution_count": 7
        }
      ]
    },
    {
      "cell_type": "markdown",
      "metadata": {
        "id": "qgVgkjkVEMX2"
      },
      "source": [
        "# **Image Generator**"
      ]
    },
    {
      "cell_type": "code",
      "metadata": {
        "id": "NsjJWmU0QjAQ"
      },
      "source": [
        "data_generator = ImageDataGenerator(validation_split = 0.2)"
      ],
      "execution_count": 8,
      "outputs": []
    },
    {
      "cell_type": "code",
      "metadata": {
        "id": "ZVsieuoFSGL5",
        "outputId": "122161b0-be78-4cb5-e3ff-d1f46fd7bbb4",
        "colab": {
          "base_uri": "https://localhost:8080/"
        }
      },
      "source": [
        "train_gen = data_generator.flow_from_directory(train_dir,target_size=(150,150),\r\n",
        "                                              batch_size=20,subset=\"training\",\r\n",
        "                                              class_mode='sparse')\r\n",
        "valid_gen = data_generator.flow_from_directory(test_dir,target_size=(150,150),\r\n",
        "                                              batch_size=20,subset=\"validation\",\r\n",
        "                                              class_mode='sparse')"
      ],
      "execution_count": 10,
      "outputs": [
        {
          "output_type": "stream",
          "text": [
            "Found 12453 images belonging to 23 classes.\n",
            "Found 792 images belonging to 23 classes.\n"
          ],
          "name": "stdout"
        }
      ]
    },
    {
      "cell_type": "markdown",
      "metadata": {
        "id": "6HLbLgulQqJk"
      },
      "source": [
        "#**Model**"
      ]
    },
    {
      "cell_type": "code",
      "metadata": {
        "id": "53-Be7c1R0BZ",
        "outputId": "1cab2c19-008a-4743-b2de-40ace6be32d2",
        "colab": {
          "base_uri": "https://localhost:8080/"
        }
      },
      "source": [
        "i = Input(shape = (150,150,3))\r\n",
        "x = Conv2D(16,(3,3),activation='relu')(i)\r\n",
        "x = MaxPooling2D((2,2))(x)\r\n",
        "x = BatchNormalization()(x)\r\n",
        "x = Conv2D(32,(3,3),activation='relu')(x)\r\n",
        "x = BatchNormalization()(x)\r\n",
        "x = MaxPooling2D((2,2))(x)\r\n",
        "x = Conv2D(64,(3,3),activation='relu')(x)\r\n",
        "x = BatchNormalization()(x)\r\n",
        "x = Conv2D(64,(3,3),activation='relu')(x)\r\n",
        "x = BatchNormalization()(x)\r\n",
        "x = MaxPooling2D((2,2))(x)\r\n",
        "x = Conv2D(128,(3,3),activation='relu')(x)\r\n",
        "x = BatchNormalization()(x)\r\n",
        "x = Conv2D(128,(3,3),activation='relu')(x)\r\n",
        "x = BatchNormalization()(x)\r\n",
        "x = MaxPooling2D((2,2))(x)\r\n",
        "x = Flatten()(x)\r\n",
        "x = Dense(64,activation='relu')(x)\r\n",
        "x = Dropout(0.2)(x)\r\n",
        "x = Dense(23,activation='softmax')(x)\r\n",
        "\r\n",
        "model = Model(i,x)\r\n",
        "model.summary()"
      ],
      "execution_count": 23,
      "outputs": [
        {
          "output_type": "stream",
          "text": [
            "Model: \"model_1\"\n",
            "_________________________________________________________________\n",
            "Layer (type)                 Output Shape              Param #   \n",
            "=================================================================\n",
            "input_3 (InputLayer)         [(None, 150, 150, 3)]     0         \n",
            "_________________________________________________________________\n",
            "conv2d_12 (Conv2D)           (None, 148, 148, 16)      448       \n",
            "_________________________________________________________________\n",
            "max_pooling2d_8 (MaxPooling2 (None, 74, 74, 16)        0         \n",
            "_________________________________________________________________\n",
            "batch_normalization_12 (Batc (None, 74, 74, 16)        64        \n",
            "_________________________________________________________________\n",
            "conv2d_13 (Conv2D)           (None, 72, 72, 32)        4640      \n",
            "_________________________________________________________________\n",
            "batch_normalization_13 (Batc (None, 72, 72, 32)        128       \n",
            "_________________________________________________________________\n",
            "max_pooling2d_9 (MaxPooling2 (None, 36, 36, 32)        0         \n",
            "_________________________________________________________________\n",
            "conv2d_14 (Conv2D)           (None, 34, 34, 64)        18496     \n",
            "_________________________________________________________________\n",
            "batch_normalization_14 (Batc (None, 34, 34, 64)        256       \n",
            "_________________________________________________________________\n",
            "conv2d_15 (Conv2D)           (None, 32, 32, 64)        36928     \n",
            "_________________________________________________________________\n",
            "batch_normalization_15 (Batc (None, 32, 32, 64)        256       \n",
            "_________________________________________________________________\n",
            "max_pooling2d_10 (MaxPooling (None, 16, 16, 64)        0         \n",
            "_________________________________________________________________\n",
            "conv2d_16 (Conv2D)           (None, 14, 14, 128)       73856     \n",
            "_________________________________________________________________\n",
            "batch_normalization_16 (Batc (None, 14, 14, 128)       512       \n",
            "_________________________________________________________________\n",
            "conv2d_17 (Conv2D)           (None, 12, 12, 128)       147584    \n",
            "_________________________________________________________________\n",
            "batch_normalization_17 (Batc (None, 12, 12, 128)       512       \n",
            "_________________________________________________________________\n",
            "max_pooling2d_11 (MaxPooling (None, 6, 6, 128)         0         \n",
            "_________________________________________________________________\n",
            "flatten_2 (Flatten)          (None, 4608)              0         \n",
            "_________________________________________________________________\n",
            "dense_4 (Dense)              (None, 64)                294976    \n",
            "_________________________________________________________________\n",
            "dropout_2 (Dropout)          (None, 64)                0         \n",
            "_________________________________________________________________\n",
            "dense_5 (Dense)              (None, 23)                1495      \n",
            "=================================================================\n",
            "Total params: 580,151\n",
            "Trainable params: 579,287\n",
            "Non-trainable params: 864\n",
            "_________________________________________________________________\n"
          ],
          "name": "stdout"
        }
      ]
    },
    {
      "cell_type": "markdown",
      "metadata": {
        "id": "mWE6hQqiSdC4"
      },
      "source": [
        "# **Compile and Run Model**"
      ]
    },
    {
      "cell_type": "code",
      "metadata": {
        "id": "eOlB3I4NSQAt"
      },
      "source": [
        "model.compile(optimizer = 'adam',\r\n",
        "             loss = 'sparse_categorical_crossentropy',\r\n",
        "             metrics = ['accuracy'])"
      ],
      "execution_count": 24,
      "outputs": []
    },
    {
      "cell_type": "code",
      "metadata": {
        "id": "rZKdv5VxSZqI",
        "outputId": "b68b0e1f-6dc1-437e-f473-e56e486ed810",
        "colab": {
          "base_uri": "https://localhost:8080/"
        }
      },
      "source": [
        "history = model.fit_generator(train_gen,validation_data=valid_gen,epochs=3,callbacks=[myCallback()])"
      ],
      "execution_count": null,
      "outputs": [
        {
          "output_type": "stream",
          "text": [
            "/usr/local/lib/python3.6/dist-packages/tensorflow/python/keras/engine/training.py:1844: UserWarning: `Model.fit_generator` is deprecated and will be removed in a future version. Please use `Model.fit`, which supports generators.\n",
            "  warnings.warn('`Model.fit_generator` is deprecated and '\n"
          ],
          "name": "stderr"
        },
        {
          "output_type": "stream",
          "text": [
            "Epoch 1/3\n",
            "469/623 [=====================>........] - ETA: 2:02 - loss: 3.2386 - accuracy: 0.1032"
          ],
          "name": "stdout"
        }
      ]
    },
    {
      "cell_type": "code",
      "metadata": {
        "id": "FT0RwFaOSmL2"
      },
      "source": [
        ""
      ],
      "execution_count": null,
      "outputs": []
    }
  ]
}