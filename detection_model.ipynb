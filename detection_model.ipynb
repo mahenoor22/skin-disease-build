{
  "nbformat": 4,
  "nbformat_minor": 0,
  "metadata": {
    "colab": {
      "name": "detection_model.ipynb",
      "provenance": [],
      "toc_visible": true,
      "authorship_tag": "ABX9TyP21sUwR7bOxUqOpkv3ZvDC",
      "include_colab_link": true
    },
    "kernelspec": {
      "name": "python3",
      "display_name": "Python 3"
    }
  },
  "cells": [
    {
      "cell_type": "markdown",
      "metadata": {
        "id": "view-in-github",
        "colab_type": "text"
      },
      "source": [
        "<a href=\"https://colab.research.google.com/github/mahenoor22/skin-disease-build/blob/main/detection_model.ipynb\" target=\"_parent\"><img src=\"https://colab.research.google.com/assets/colab-badge.svg\" alt=\"Open In Colab\"/></a>"
      ]
    },
    {
      "cell_type": "code",
      "metadata": {
        "id": "yaQy9wAcWwgb"
      },
      "source": [
        "import tensorflow as tf\r\n",
        "import pandas as pd\r\n",
        "import numpy as np\r\n",
        "import matplotlib.pyplot as plt\r\n",
        "import matplotlib.image as mpimg\r\n",
        "import os\r\n",
        "import random\r\n",
        "from tensorflow.keras.models import Model\r\n",
        "from tensorflow.keras.layers import Dense,Flatten,Conv2D,MaxPooling2D,Input,BatchNormalization,Dropout\r\n",
        "from tensorflow.keras.optimizers import Adam\r\n",
        "from tensorflow.keras.preprocessing.image import ImageDataGenerator,load_img,img_to_array\r\n",
        "from glob import glob\r\n",
        "from sklearn.model_selection import train_test_split"
      ],
      "execution_count": 38,
      "outputs": []
    },
    {
      "cell_type": "markdown",
      "metadata": {
        "id": "_dgUNafoUj-F"
      },
      "source": [
        "# **CallBack**"
      ]
    },
    {
      "cell_type": "code",
      "metadata": {
        "id": "c12Np8W_UjX8"
      },
      "source": [
        "class myCallback(tf.keras.callbacks.Callback):\r\n",
        "    def on_epoch_end(self, epoch, logs={}):\r\n",
        "        if(logs.get('accuracy')>0.97):\r\n",
        "            print(\"\\nReached 97.0% accuracy so cancelling training!\")\r\n",
        "            self.model.stop_training = True"
      ],
      "execution_count": 39,
      "outputs": []
    },
    {
      "cell_type": "markdown",
      "metadata": {
        "id": "3Wldr7iY3CW1"
      },
      "source": [
        "## **Import Dataset**"
      ]
    },
    {
      "cell_type": "code",
      "metadata": {
        "colab": {
          "base_uri": "https://localhost:8080/"
        },
        "id": "1ifUVWYp0vEA",
        "outputId": "57b841fd-c7df-4181-c3b6-7a2038d9b533"
      },
      "source": [
        "!git clone https://github.com/mahenoor22/skin-disease-build.git"
      ],
      "execution_count": 40,
      "outputs": [
        {
          "output_type": "stream",
          "text": [
            "fatal: destination path 'skin-disease-build' already exists and is not an empty directory.\n"
          ],
          "name": "stdout"
        }
      ]
    },
    {
      "cell_type": "code",
      "metadata": {
        "id": "vXr6YPZB9Lcq",
        "colab": {
          "base_uri": "https://localhost:8080/"
        },
        "outputId": "eaad22d5-5ae4-4252-8a8c-1b7a99b6c05f"
      },
      "source": [
        "train_dir = r\"/content/skin-disease-build/dataset/train\"\r\n",
        "test_dir=r\"/content/skin-disease-build/dataset/test\"\r\n",
        "os.listdir(train_dir)"
      ],
      "execution_count": 43,
      "outputs": [
        {
          "output_type": "execute_result",
          "data": {
            "text/plain": [
              "['Lupus and other Connective Tissue diseases',\n",
              " 'Acne and Rosacea Photos',\n",
              " 'Light Diseases and Disorders of Pigmentation',\n",
              " 'Scabies Lyme Disease and other Infestations and Bites',\n",
              " 'Warts Molluscum and other Viral Infections',\n",
              " 'Cellulitis Impetigo and other Bacterial Infections',\n",
              " 'Systemic Disease',\n",
              " 'Bullous Disease Photos',\n",
              " 'Melanoma Skin Cancer Nevi and Moles',\n",
              " 'Herpes HPV and other STDs Photos',\n",
              " 'Actinic Keratosis Basal Cell Carcinoma and other Malignant Lesions',\n",
              " 'Poison Ivy Photos and other Contact Dermatitis',\n",
              " 'Urticaria Hives',\n",
              " 'Psoriasis pictures Lichen Planus and related diseases',\n",
              " 'Vascular Tumors',\n",
              " 'Nail Fungus and other Nail Disease',\n",
              " 'Hair Loss Photos Alopecia and other Hair Diseases',\n",
              " 'Vasculitis Photos',\n",
              " 'Seborrheic Keratoses and other Benign Tumors',\n",
              " 'Atopic Dermatitis Photos',\n",
              " 'Eczema Photos',\n",
              " 'Tinea Ringworm Candidiasis and other Fungal Infections',\n",
              " 'Exanthems and Drug Eruptions']"
            ]
          },
          "metadata": {
            "tags": []
          },
          "execution_count": 43
        }
      ]
    },
    {
      "cell_type": "markdown",
      "metadata": {
        "id": "qgVgkjkVEMX2"
      },
      "source": [
        "# **Image Generator**"
      ]
    },
    {
      "cell_type": "code",
      "metadata": {
        "id": "NsjJWmU0QjAQ"
      },
      "source": [
        "data_generator = ImageDataGenerator(validation_split = 0.2)"
      ],
      "execution_count": 44,
      "outputs": []
    },
    {
      "cell_type": "code",
      "metadata": {
        "colab": {
          "base_uri": "https://localhost:8080/"
        },
        "id": "ZVsieuoFSGL5",
        "outputId": "330a74b2-c68b-4821-f3e6-40a09491c4d3"
      },
      "source": [
        "train_datagen = ImageDataGenerator(rescale=1./255,\r\n",
        "                                  rotation_range=40,\r\n",
        "                                  width_shift_range=0.2,\r\n",
        "                                  height_shift_range=0.2,\r\n",
        "                                  shear_range=0.2,\r\n",
        "                                  zoom_range=0.2,\r\n",
        "                                  horizontal_flip=True)\r\n",
        "\r\n",
        "# Note that the validation data should not be augmented!\r\n",
        "test_datagen = ImageDataGenerator(rescale=1./255)\r\n",
        "\r\n",
        "# Flow training images in batches of 20 using train_datagen generator\r\n",
        "train_generator = train_datagen.flow_from_directory(train_dir,\r\n",
        "                                                   batch_size=20,\r\n",
        "                                                   class_mode='sparse',\r\n",
        "                                                   target_size=(150,150))     \r\n",
        "\r\n",
        "# Flow validation images in batches of 20 using test_datagen generator\r\n",
        "validation_generator =  test_datagen.flow_from_directory( test_dir,\r\n",
        "                                                   batch_size=20,\r\n",
        "                                                   class_mode='sparse',\r\n",
        "                                                   target_size=(150,150))\r\n"
      ],
      "execution_count": 45,
      "outputs": [
        {
          "output_type": "stream",
          "text": [
            "Found 12453 images belonging to 23 classes.\n",
            "Found 792 images belonging to 23 classes.\n"
          ],
          "name": "stdout"
        }
      ]
    },
    {
      "cell_type": "markdown",
      "metadata": {
        "id": "6HLbLgulQqJk"
      },
      "source": [
        "#**Model**"
      ]
    },
    {
      "cell_type": "code",
      "metadata": {
        "colab": {
          "base_uri": "https://localhost:8080/"
        },
        "id": "53-Be7c1R0BZ",
        "outputId": "37c7c038-30cd-42ae-a104-a66e5f4f887e"
      },
      "source": [
        "i = Input(shape = (150,150,3))\r\n",
        "x = Conv2D(32,(3,3),activation='relu')(i)\r\n",
        "#x = MaxPooling2D((2,2))(x)\r\n",
        "#x = BatchNormalization()(x)\r\n",
        "x = Conv2D(32,(3,3),activation='relu')(x)\r\n",
        "#x = BatchNormalization()(x)\r\n",
        "x = MaxPooling2D((2,2))(x)\r\n",
        "x = Dropout(0.25)(x)\r\n",
        "x = Conv2D(64,(3,3),activation='relu')(x)\r\n",
        "#x = BatchNormalization()(x)\r\n",
        "x = Conv2D(64,(3,3),activation='relu')(x)\r\n",
        "#x = BatchNormalization()(x)\r\n",
        "x = MaxPooling2D((2,2))(x)\r\n",
        "x = Dropout(0.25)(x)\r\n",
        "# x = Conv2D(128,(3,3),activation='relu')(x)\r\n",
        "# x = BatchNormalization()(x)\r\n",
        "# x = Conv2D(128,(3,3),activation='relu')(x)\r\n",
        "# x = BatchNormalization()(x)\r\n",
        "# x = MaxPooling2D((2,2))(x)\r\n",
        "x = Flatten()(x)\r\n",
        "x = Dense(512,activation='relu')(x)\r\n",
        "x = Dropout(0.5)(x)\r\n",
        "x = Dense(23,activation='softmax')(x)\r\n",
        "\r\n",
        "model = Model(i,x)\r\n",
        "model.summary()"
      ],
      "execution_count": 49,
      "outputs": [
        {
          "output_type": "stream",
          "text": [
            "Model: \"model_4\"\n",
            "_________________________________________________________________\n",
            "Layer (type)                 Output Shape              Param #   \n",
            "=================================================================\n",
            "input_10 (InputLayer)        [(None, 150, 150, 3)]     0         \n",
            "_________________________________________________________________\n",
            "conv2d_52 (Conv2D)           (None, 148, 148, 32)      896       \n",
            "_________________________________________________________________\n",
            "conv2d_53 (Conv2D)           (None, 146, 146, 32)      9248      \n",
            "_________________________________________________________________\n",
            "max_pooling2d_36 (MaxPooling (None, 73, 73, 32)        0         \n",
            "_________________________________________________________________\n",
            "dropout_5 (Dropout)          (None, 73, 73, 32)        0         \n",
            "_________________________________________________________________\n",
            "conv2d_54 (Conv2D)           (None, 71, 71, 64)        18496     \n",
            "_________________________________________________________________\n",
            "conv2d_55 (Conv2D)           (None, 69, 69, 64)        36928     \n",
            "_________________________________________________________________\n",
            "max_pooling2d_37 (MaxPooling (None, 34, 34, 64)        0         \n",
            "_________________________________________________________________\n",
            "dropout_6 (Dropout)          (None, 34, 34, 64)        0         \n",
            "_________________________________________________________________\n",
            "flatten_5 (Flatten)          (None, 73984)             0         \n",
            "_________________________________________________________________\n",
            "dense_10 (Dense)             (None, 512)               37880320  \n",
            "_________________________________________________________________\n",
            "dropout_7 (Dropout)          (None, 512)               0         \n",
            "_________________________________________________________________\n",
            "dense_11 (Dense)             (None, 23)                11799     \n",
            "=================================================================\n",
            "Total params: 37,957,687\n",
            "Trainable params: 37,957,687\n",
            "Non-trainable params: 0\n",
            "_________________________________________________________________\n"
          ],
          "name": "stdout"
        }
      ]
    },
    {
      "cell_type": "markdown",
      "metadata": {
        "id": "mWE6hQqiSdC4"
      },
      "source": [
        "# **Compile and Run Model**"
      ]
    },
    {
      "cell_type": "code",
      "metadata": {
        "id": "eOlB3I4NSQAt"
      },
      "source": [
        "model.compile(optimizer = RMSprop(lr=0.0001),\r\n",
        "             loss = 'sparse_categorical_crossentropy',\r\n",
        "             metrics = ['accuracy'])"
      ],
      "execution_count": 50,
      "outputs": []
    },
    {
      "cell_type": "code",
      "metadata": {
        "colab": {
          "base_uri": "https://localhost:8080/"
        },
        "id": "rZKdv5VxSZqI",
        "outputId": "91586fac-7b2b-486c-8310-3272355af207"
      },
      "source": [
        "history = model.fit_generator(train_generator,validation_data=validation_generator,epochs=3,callbacks=[callbacks])"
      ],
      "execution_count": null,
      "outputs": [
        {
          "output_type": "stream",
          "text": [
            "Epoch 1/30\n",
            "64/64 [==============================] - 148s 2s/step - loss: 123.9211 - accuracy: 0.0967\n",
            "Epoch 2/30\n",
            "64/64 [==============================] - 148s 2s/step - loss: 3.0454 - accuracy: 0.1157\n",
            "Epoch 3/30\n",
            "64/64 [==============================] - 148s 2s/step - loss: 2.9601 - accuracy: 0.1075\n",
            "Epoch 4/30\n",
            "64/64 [==============================] - 148s 2s/step - loss: 2.9073 - accuracy: 0.1203\n",
            "Epoch 5/30\n",
            "64/64 [==============================] - 146s 2s/step - loss: 2.9089 - accuracy: 0.1238\n",
            "Epoch 6/30\n",
            "64/64 [==============================] - 146s 2s/step - loss: 2.9244 - accuracy: 0.1092\n",
            "Epoch 7/30\n",
            "64/64 [==============================] - 147s 2s/step - loss: 2.8815 - accuracy: 0.1381\n",
            "Epoch 8/30\n",
            "64/64 [==============================] - 147s 2s/step - loss: 2.8957 - accuracy: 0.1357\n",
            "Epoch 9/30\n",
            "64/64 [==============================] - 147s 2s/step - loss: 2.8147 - accuracy: 0.1595\n",
            "Epoch 10/30\n",
            "64/64 [==============================] - 147s 2s/step - loss: 2.8943 - accuracy: 0.1400\n",
            "Epoch 11/30\n",
            "64/64 [==============================] - 146s 2s/step - loss: 2.8752 - accuracy: 0.1170\n",
            "Epoch 12/30\n",
            "64/64 [==============================] - 145s 2s/step - loss: 2.9216 - accuracy: 0.1143\n",
            "Epoch 13/30\n",
            "64/64 [==============================] - 146s 2s/step - loss: 2.8764 - accuracy: 0.1172\n",
            "Epoch 14/30\n",
            "64/64 [==============================] - 144s 2s/step - loss: 2.9146 - accuracy: 0.1260\n",
            "Epoch 15/30\n",
            "64/64 [==============================] - 146s 2s/step - loss: 2.8225 - accuracy: 0.1533\n",
            "Epoch 16/30\n",
            "64/64 [==============================] - 144s 2s/step - loss: 2.8277 - accuracy: 0.1525\n",
            "Epoch 17/30\n",
            "64/64 [==============================] - 143s 2s/step - loss: 2.8381 - accuracy: 0.1795\n",
            "Epoch 18/30\n",
            "64/64 [==============================] - 143s 2s/step - loss: 2.8413 - accuracy: 0.1515\n",
            "Epoch 19/30\n",
            "64/64 [==============================] - 144s 2s/step - loss: 2.8247 - accuracy: 0.1554\n",
            "Epoch 20/30\n",
            "64/64 [==============================] - 142s 2s/step - loss: 2.8340 - accuracy: 0.1486\n",
            "Epoch 21/30\n",
            "64/64 [==============================] - 143s 2s/step - loss: 2.7513 - accuracy: 0.1737\n",
            "Epoch 22/30\n",
            "64/64 [==============================] - 143s 2s/step - loss: 2.7477 - accuracy: 0.1827\n",
            "Epoch 23/30\n",
            "64/64 [==============================] - 142s 2s/step - loss: 2.7593 - accuracy: 0.1804\n",
            "Epoch 24/30\n",
            "64/64 [==============================] - 143s 2s/step - loss: 2.7522 - accuracy: 0.1949\n",
            "Epoch 25/30\n",
            "64/64 [==============================] - 144s 2s/step - loss: 2.6842 - accuracy: 0.1861\n",
            "Epoch 26/30\n",
            "64/64 [==============================] - 143s 2s/step - loss: 2.6656 - accuracy: 0.2163\n",
            "Epoch 27/30\n",
            "64/64 [==============================] - 142s 2s/step - loss: 2.6513 - accuracy: 0.2270\n",
            "Epoch 28/30\n",
            "64/64 [==============================] - 142s 2s/step - loss: 2.7057 - accuracy: 0.2144\n",
            "Epoch 29/30\n",
            "24/64 [==========>...................] - ETA: 1:28 - loss: 2.4871 - accuracy: 0.2601"
          ],
          "name": "stdout"
        }
      ]
    },
    {
      "cell_type": "markdown",
      "metadata": {
        "id": "VfDvJMXdlcyG"
      },
      "source": [
        "## **GRAPH**"
      ]
    },
    {
      "cell_type": "code",
      "metadata": {
        "id": "FT0RwFaOSmL2"
      },
      "source": [
        "%matplotlib inline\r\n",
        "import matplotlib.pyplot as plt\r\n",
        "acc = history.history['acc']\r\n",
        "val_acc = history.history['val_acc']\r\n",
        "loss = history.history['loss']\r\n",
        "val_loss = history.history['val_loss']\r\n",
        "\r\n",
        "epochs = range(len(acc))\r\n",
        "\r\n",
        "plt.plot(epochs, acc, 'r', label='Training accuracy')\r\n",
        "plt.plot(epochs, val_acc, 'b', label='Validation accuracy')\r\n",
        "plt.title('Training and validation accuracy')\r\n",
        "plt.legend(loc=0)\r\n",
        "plt.figure()\r\n",
        "\r\n",
        "\r\n",
        "plt.show()"
      ],
      "execution_count": null,
      "outputs": []
    },
    {
      "cell_type": "code",
      "metadata": {
        "id": "G1HghUaklhZh"
      },
      "source": [
        ""
      ],
      "execution_count": null,
      "outputs": []
    }
  ]
}