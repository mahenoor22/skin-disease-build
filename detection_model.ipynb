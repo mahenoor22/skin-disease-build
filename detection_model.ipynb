{
  "nbformat": 4,
  "nbformat_minor": 0,
  "metadata": {
    "colab": {
      "name": "detection_model.ipynb",
      "provenance": [],
      "toc_visible": true,
      "authorship_tag": "ABX9TyN1nG0uymh49711/FDwUZfZ",
      "include_colab_link": true
    },
    "kernelspec": {
      "name": "python3",
      "display_name": "Python 3"
    }
  },
  "cells": [
    {
      "cell_type": "markdown",
      "metadata": {
        "id": "view-in-github",
        "colab_type": "text"
      },
      "source": [
        "<a href=\"https://colab.research.google.com/github/mahenoor22/skin-disease-build/blob/main/detection_model.ipynb\" target=\"_parent\"><img src=\"https://colab.research.google.com/assets/colab-badge.svg\" alt=\"Open In Colab\"/></a>"
      ]
    },
    {
      "cell_type": "code",
      "metadata": {
        "id": "yaQy9wAcWwgb"
      },
      "source": [
        "import tensorflow as tf\r\n",
        "import pandas as pd\r\n",
        "import numpy as np\r\n",
        "import matplotlib.pyplot as plt\r\n",
        "import matplotlib.image as mpimg\r\n",
        "import os\r\n",
        "import random\r\n",
        "from tensorflow.keras.models import Model\r\n",
        "from tensorflow.keras.layers import Dense,Flatten,Conv2D,MaxPooling2D,Input,BatchNormalization,Dropout\r\n",
        "from tensorflow.keras.optimizers import Adam,RMSprop\r\n",
        "from tensorflow.keras.preprocessing.image import ImageDataGenerator,load_img,img_to_array\r\n",
        "from glob import glob\r\n",
        "from sklearn.model_selection import train_test_split"
      ],
      "execution_count": 4,
      "outputs": []
    },
    {
      "cell_type": "markdown",
      "metadata": {
        "id": "_dgUNafoUj-F"
      },
      "source": [
        "# **CallBack**"
      ]
    },
    {
      "cell_type": "code",
      "metadata": {
        "id": "c12Np8W_UjX8"
      },
      "source": [
        "class myCallback(tf.keras.callbacks.Callback):\r\n",
        "    def on_epoch_end(self, epoch, logs={}):\r\n",
        "        if(logs.get('acc')>0.70):\r\n",
        "            print(\"\\nReached 70.0% accuracy so cancelling training!\")\r\n",
        "            self.model.stop_training = True"
      ],
      "execution_count": 5,
      "outputs": []
    },
    {
      "cell_type": "markdown",
      "metadata": {
        "id": "3Wldr7iY3CW1"
      },
      "source": [
        "## **Import Dataset**"
      ]
    },
    {
      "cell_type": "code",
      "metadata": {
        "colab": {
          "base_uri": "https://localhost:8080/"
        },
        "id": "1ifUVWYp0vEA",
        "outputId": "213be5b9-208f-4341-9542-45b4753d0e3e"
      },
      "source": [
        "!git clone https://github.com/mahenoor22/skin-disease-build.git"
      ],
      "execution_count": 6,
      "outputs": [
        {
          "output_type": "stream",
          "text": [
            "fatal: destination path 'skin-disease-build' already exists and is not an empty directory.\n"
          ],
          "name": "stdout"
        }
      ]
    },
    {
      "cell_type": "code",
      "metadata": {
        "id": "vXr6YPZB9Lcq",
        "colab": {
          "base_uri": "https://localhost:8080/"
        },
        "outputId": "5d83efa4-30ff-4b32-921a-902acaedf697"
      },
      "source": [
        "train_dir = r\"/content/skin-disease-build/dataset/train\"\r\n",
        "test_dir=r\"/content/skin-disease-build/dataset/test\"\r\n",
        "os.listdir(train_dir)"
      ],
      "execution_count": 7,
      "outputs": [
        {
          "output_type": "execute_result",
          "data": {
            "text/plain": [
              "['Atopic Dermatitis Photos',\n",
              " 'Melanoma Skin Cancer Nevi and Moles',\n",
              " 'Psoriasis pictures Lichen Planus and related diseases',\n",
              " 'Tinea Ringworm Candidiasis and other Fungal Infections',\n",
              " 'Actinic Keratosis Basal Cell Carcinoma and other Malignant Lesions',\n",
              " 'Nail Fungus and other Nail Disease',\n",
              " 'Light Diseases and Disorders of Pigmentation',\n",
              " 'Warts Molluscum and other Viral Infections',\n",
              " 'Vascular Tumors',\n",
              " 'Lupus and other Connective Tissue diseases',\n",
              " 'Eczema Photos',\n",
              " 'Urticaria Hives',\n",
              " 'Seborrheic Keratoses and other Benign Tumors',\n",
              " 'Exanthems and Drug Eruptions',\n",
              " 'Cellulitis Impetigo and other Bacterial Infections',\n",
              " 'Bullous Disease Photos',\n",
              " 'Poison Ivy Photos and other Contact Dermatitis',\n",
              " 'Acne and Rosacea Photos',\n",
              " 'Systemic Disease',\n",
              " 'Hair Loss Photos Alopecia and other Hair Diseases',\n",
              " 'Scabies Lyme Disease and other Infestations and Bites',\n",
              " 'Vasculitis Photos',\n",
              " 'Herpes HPV and other STDs Photos']"
            ]
          },
          "metadata": {
            "tags": []
          },
          "execution_count": 7
        }
      ]
    },
    {
      "cell_type": "markdown",
      "metadata": {
        "id": "qgVgkjkVEMX2"
      },
      "source": [
        "# **Image Generator**"
      ]
    },
    {
      "cell_type": "code",
      "metadata": {
        "id": "NsjJWmU0QjAQ"
      },
      "source": [
        "data_generator = ImageDataGenerator(validation_split = 0.2)"
      ],
      "execution_count": 8,
      "outputs": []
    },
    {
      "cell_type": "code",
      "metadata": {
        "colab": {
          "base_uri": "https://localhost:8080/"
        },
        "id": "ZVsieuoFSGL5",
        "outputId": "814e7c01-8719-4f10-e51e-c96f2df28985"
      },
      "source": [
        "train_datagen = ImageDataGenerator(rescale=1./255,\r\n",
        "                                  rotation_range=40,\r\n",
        "                                  width_shift_range=0.2,\r\n",
        "                                  height_shift_range=0.2,\r\n",
        "                                  shear_range=0.2,\r\n",
        "                                  zoom_range=0.2,\r\n",
        "                                  horizontal_flip=True)\r\n",
        "\r\n",
        "# Note that the validation data should not be augmented!\r\n",
        "test_datagen = ImageDataGenerator(rescale=1./255,\r\n",
        "                                  rotation_range=40,\r\n",
        "                                  width_shift_range=0.2,\r\n",
        "                                  height_shift_range=0.2,\r\n",
        "                                  shear_range=0.2,\r\n",
        "                                  zoom_range=0.2,\r\n",
        "                                  horizontal_flip=True)\r\n",
        "\r\n",
        "# Flow training images in batches of 20 using train_datagen generator\r\n",
        "train_generator = train_datagen.flow_from_directory(train_dir,\r\n",
        "                                                   batch_size=64,\r\n",
        "                                                   class_mode='sparse',\r\n",
        "                                                   target_size=(150,150))     \r\n",
        "\r\n",
        "# Flow validation images in batches of 20 using test_datagen generator\r\n",
        "validation_generator =  test_datagen.flow_from_directory( test_dir,\r\n",
        "                                                   batch_size=64,\r\n",
        "                                                   class_mode='sparse',\r\n",
        "                                                   target_size=(150,150))\r\n"
      ],
      "execution_count": 9,
      "outputs": [
        {
          "output_type": "stream",
          "text": [
            "Found 15557 images belonging to 23 classes.\n",
            "Found 4002 images belonging to 23 classes.\n"
          ],
          "name": "stdout"
        }
      ]
    },
    {
      "cell_type": "markdown",
      "metadata": {
        "id": "6HLbLgulQqJk"
      },
      "source": [
        "#**Model**"
      ]
    },
    {
      "cell_type": "code",
      "metadata": {
        "id": "53-Be7c1R0BZ"
      },
      "source": [
        "def CNN_model():  \r\n",
        "  i = Input(shape = (150,150,3))\r\n",
        "  x = Conv2D(32,(3,3),activation='relu')(i)\r\n",
        "  #x = MaxPooling2D((2,2))(x)\r\n",
        "  #x = BatchNormalization()(x)\r\n",
        "  x = Conv2D(32,(3,3),activation='relu')(x)\r\n",
        "  #x = BatchNormalization()(x)\r\n",
        "  x = MaxPooling2D((2,2))(x)\r\n",
        "  x = Dropout(0.25)(x)\r\n",
        "  x = Conv2D(64,(3,3),activation='relu')(x)\r\n",
        "  #x = BatchNormalization()(x)\r\n",
        "  x = Conv2D(64,(3,3),activation='relu')(x)\r\n",
        "  #x = BatchNormalization()(x)\r\n",
        "  x = MaxPooling2D((2,2))(x)\r\n",
        "  x = Dropout(0.25)(x)\r\n",
        "  # x = Conv2D(128,(3,3),activation='relu')(x)\r\n",
        "  # x = BatchNormalization()(x)\r\n",
        "  # x = Conv2D(128,(3,3),activation='relu')(x)\r\n",
        "  # x = BatchNormalization()(x)\r\n",
        "  # x = MaxPooling2D((2,2))(x)\r\n",
        "  x = Flatten()(x)\r\n",
        "  x = Dense(512,activation='relu')(x)\r\n",
        "  x = Dropout(0.5)(x)\r\n",
        "  x = Dense(23,activation='softmax')(x)\r\n",
        "\r\n",
        "  model = Model(i,x)\r\n",
        "  model.summary()\r\n",
        "  model.compile(optimizer = RMSprop(lr=0.00001),\r\n",
        "              loss = 'sparse_categorical_crossentropy',\r\n",
        "              metrics = ['acc'])\r\n",
        "  history = model.fit_generator(train_generator,validation_data=validation_generator,epochs=30,callbacks=[myCallback()])\r\n",
        "  y_preds = model.predict(test_dir)\r\n",
        "  print(\"Classification Report: \\n\", classification_report(test_dir, y_preds))\r\n",
        "    "
      ],
      "execution_count": 10,
      "outputs": []
    },
    {
      "cell_type": "markdown",
      "metadata": {
        "id": "mWE6hQqiSdC4"
      },
      "source": [
        "# **Compile and Run Model**"
      ]
    },
    {
      "cell_type": "code",
      "metadata": {
        "id": "eOlB3I4NSQAt",
        "outputId": "3fc8ee6f-1701-4263-d23b-340a091389e9",
        "colab": {
          "base_uri": "https://localhost:8080/"
        }
      },
      "source": [
        "CNN_model()"
      ],
      "execution_count": null,
      "outputs": [
        {
          "output_type": "stream",
          "text": [
            "Model: \"model\"\n",
            "_________________________________________________________________\n",
            "Layer (type)                 Output Shape              Param #   \n",
            "=================================================================\n",
            "input_1 (InputLayer)         [(None, 150, 150, 3)]     0         \n",
            "_________________________________________________________________\n",
            "conv2d (Conv2D)              (None, 148, 148, 32)      896       \n",
            "_________________________________________________________________\n",
            "conv2d_1 (Conv2D)            (None, 146, 146, 32)      9248      \n",
            "_________________________________________________________________\n",
            "max_pooling2d (MaxPooling2D) (None, 73, 73, 32)        0         \n",
            "_________________________________________________________________\n",
            "dropout (Dropout)            (None, 73, 73, 32)        0         \n",
            "_________________________________________________________________\n",
            "conv2d_2 (Conv2D)            (None, 71, 71, 64)        18496     \n",
            "_________________________________________________________________\n",
            "conv2d_3 (Conv2D)            (None, 69, 69, 64)        36928     \n",
            "_________________________________________________________________\n",
            "max_pooling2d_1 (MaxPooling2 (None, 34, 34, 64)        0         \n",
            "_________________________________________________________________\n",
            "dropout_1 (Dropout)          (None, 34, 34, 64)        0         \n",
            "_________________________________________________________________\n",
            "flatten (Flatten)            (None, 73984)             0         \n",
            "_________________________________________________________________\n",
            "dense (Dense)                (None, 512)               37880320  \n",
            "_________________________________________________________________\n",
            "dropout_2 (Dropout)          (None, 512)               0         \n",
            "_________________________________________________________________\n",
            "dense_1 (Dense)              (None, 23)                11799     \n",
            "=================================================================\n",
            "Total params: 37,957,687\n",
            "Trainable params: 37,957,687\n",
            "Non-trainable params: 0\n",
            "_________________________________________________________________\n"
          ],
          "name": "stdout"
        },
        {
          "output_type": "stream",
          "text": [
            "/usr/local/lib/python3.6/dist-packages/tensorflow/python/keras/engine/training.py:1844: UserWarning: `Model.fit_generator` is deprecated and will be removed in a future version. Please use `Model.fit`, which supports generators.\n",
            "  warnings.warn('`Model.fit_generator` is deprecated and '\n"
          ],
          "name": "stderr"
        },
        {
          "output_type": "stream",
          "text": [
            "Epoch 1/30\n",
            "  3/244 [..............................] - ETA: 28:05 - loss: 3.1437 - acc: 0.0182"
          ],
          "name": "stdout"
        }
      ]
    },
    {
      "cell_type": "markdown",
      "metadata": {
        "id": "VfDvJMXdlcyG"
      },
      "source": [
        "## **GRAPH**"
      ]
    },
    {
      "cell_type": "code",
      "metadata": {
        "colab": {
          "base_uri": "https://localhost:8080/",
          "height": 231
        },
        "id": "FT0RwFaOSmL2",
        "outputId": "6fd7d47d-0a64-40bf-ab3d-a1471a476896"
      },
      "source": [
        "%matplotlib inline\r\n",
        "import matplotlib.pyplot as plt\r\n",
        "acc = history.history['accuracy']\r\n",
        "val_acc = history.history['val_acc']\r\n",
        "loss = history.history['loss']\r\n",
        "val_loss = history.history['val_loss']\r\n",
        "\r\n",
        "epochs = range(len(acc))\r\n",
        "\r\n",
        "plt.plot(epochs, acc, 'r', label='Training accuracy')\r\n",
        "plt.plot(epochs, val_acc, 'b', label='Validation accuracy')\r\n",
        "plt.title('Training and validation accuracy')\r\n",
        "plt.legend(loc=0)\r\n",
        "plt.figure()\r\n",
        "\r\n",
        "\r\n",
        "plt.show()"
      ],
      "execution_count": null,
      "outputs": [
        {
          "output_type": "error",
          "ename": "KeyError",
          "evalue": "ignored",
          "traceback": [
            "\u001b[0;31m---------------------------------------------------------------------------\u001b[0m",
            "\u001b[0;31mKeyError\u001b[0m                                  Traceback (most recent call last)",
            "\u001b[0;32m<ipython-input-52-3be86d55f053>\u001b[0m in \u001b[0;36m<module>\u001b[0;34m()\u001b[0m\n\u001b[1;32m      1\u001b[0m \u001b[0mget_ipython\u001b[0m\u001b[0;34m(\u001b[0m\u001b[0;34m)\u001b[0m\u001b[0;34m.\u001b[0m\u001b[0mmagic\u001b[0m\u001b[0;34m(\u001b[0m\u001b[0;34m'matplotlib inline'\u001b[0m\u001b[0;34m)\u001b[0m\u001b[0;34m\u001b[0m\u001b[0;34m\u001b[0m\u001b[0m\n\u001b[1;32m      2\u001b[0m \u001b[0;32mimport\u001b[0m \u001b[0mmatplotlib\u001b[0m\u001b[0;34m.\u001b[0m\u001b[0mpyplot\u001b[0m \u001b[0;32mas\u001b[0m \u001b[0mplt\u001b[0m\u001b[0;34m\u001b[0m\u001b[0;34m\u001b[0m\u001b[0m\n\u001b[0;32m----> 3\u001b[0;31m \u001b[0macc\u001b[0m \u001b[0;34m=\u001b[0m \u001b[0mhistory\u001b[0m\u001b[0;34m.\u001b[0m\u001b[0mhistory\u001b[0m\u001b[0;34m[\u001b[0m\u001b[0;34m'acc'\u001b[0m\u001b[0;34m]\u001b[0m\u001b[0;34m\u001b[0m\u001b[0;34m\u001b[0m\u001b[0m\n\u001b[0m\u001b[1;32m      4\u001b[0m \u001b[0mval_acc\u001b[0m \u001b[0;34m=\u001b[0m \u001b[0mhistory\u001b[0m\u001b[0;34m.\u001b[0m\u001b[0mhistory\u001b[0m\u001b[0;34m[\u001b[0m\u001b[0;34m'val_acc'\u001b[0m\u001b[0;34m]\u001b[0m\u001b[0;34m\u001b[0m\u001b[0;34m\u001b[0m\u001b[0m\n\u001b[1;32m      5\u001b[0m \u001b[0mloss\u001b[0m \u001b[0;34m=\u001b[0m \u001b[0mhistory\u001b[0m\u001b[0;34m.\u001b[0m\u001b[0mhistory\u001b[0m\u001b[0;34m[\u001b[0m\u001b[0;34m'loss'\u001b[0m\u001b[0;34m]\u001b[0m\u001b[0;34m\u001b[0m\u001b[0;34m\u001b[0m\u001b[0m\n",
            "\u001b[0;31mKeyError\u001b[0m: 'acc'"
          ]
        }
      ]
    },
    {
      "cell_type": "code",
      "metadata": {
        "id": "G1HghUaklhZh"
      },
      "source": [
        ""
      ],
      "execution_count": null,
      "outputs": []
    }
  ]
}