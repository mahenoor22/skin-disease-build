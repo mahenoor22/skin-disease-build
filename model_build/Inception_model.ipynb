{
  "nbformat": 4,
  "nbformat_minor": 0,
  "metadata": {
    "colab": {
      "name": "detection_model.ipynb",
      "provenance": [],
      "toc_visible": true,
      "include_colab_link": true
    },
    "kernelspec": {
      "display_name": "Python 3",
      "language": "python",
      "name": "python3"
    },
    "language_info": {
      "codemirror_mode": {
        "name": "ipython",
        "version": 3
      },
      "file_extension": ".py",
      "mimetype": "text/x-python",
      "name": "python",
      "nbconvert_exporter": "python",
      "pygments_lexer": "ipython3",
      "version": "3.7.6"
    }
  },
  "cells": [
    {
      "cell_type": "markdown",
      "metadata": {
        "id": "view-in-github",
        "colab_type": "text"
      },
      "source": [
        "<a href=\"https://colab.research.google.com/github/mahenoor22/skin-disease-build/blob/main/model_build/Inception_model.ipynb\" target=\"_parent\"><img src=\"https://colab.research.google.com/assets/colab-badge.svg\" alt=\"Open In Colab\"/></a>"
      ]
    },
    {
      "cell_type": "code",
      "metadata": {
        "id": "yaQy9wAcWwgb"
      },
      "source": [
        "import tensorflow as tf\n",
        "import pandas as pd\n",
        "import numpy as np\n",
        "import matplotlib.pyplot as plt\n",
        "import matplotlib.image as mpimg\n",
        "import os\n",
        "import random\n",
        "from tensorflow.keras.models import Model\n",
        "from tensorflow.keras.models import Sequential\n",
        "from tensorflow.keras.layers import Dense, Dropout, Flatten, Conv2D, MaxPool2D\n",
        "from tensorflow.keras.optimizers import Adam\n",
        "from tensorflow.keras.preprocessing.image import ImageDataGenerator\n",
        "from tensorflow.keras.callbacks import ReduceLROnPlateau, EarlyStopping\n",
        "from sklearn.model_selection import train_test_split\n",
        "\n",
        "from sklearn.model_selection import GridSearchCV\n",
        "from tensorflow.keras.applications.vgg16 import VGG16\n",
        "from tensorflow.keras.applications.inception_v3 import InceptionV3\n",
        "from tensorflow.keras.applications.resnet50 import ResNet50"
      ],
      "execution_count": 10,
      "outputs": []
    },
    {
      "cell_type": "markdown",
      "metadata": {
        "id": "_dgUNafoUj-F"
      },
      "source": [
        "# **CallBack**"
      ]
    },
    {
      "cell_type": "code",
      "metadata": {
        "id": "c12Np8W_UjX8"
      },
      "source": [
        "class myCallback(tf.keras.callbacks.Callback):\n",
        "    def on_epoch_end(self, epoch, logs={}):\n",
        "        if(logs.get('acc')>0.70):\n",
        "            print(\"\\nReached 70.0% accuracy so cancelling training!\")\n",
        "            self.model.stop_training = True"
      ],
      "execution_count": 4,
      "outputs": []
    },
    {
      "cell_type": "markdown",
      "metadata": {
        "id": "3Wldr7iY3CW1"
      },
      "source": [
        "## **Import Dataset**"
      ]
    },
    {
      "cell_type": "code",
      "metadata": {
        "colab": {
          "base_uri": "https://localhost:8080/"
        },
        "id": "1ifUVWYp0vEA",
        "outputId": "96be04e2-ba24-47b1-cb46-81bbe2e60b59"
      },
      "source": [
        "!git clone https://github.com/mahenoor22/skin-disease-build.git"
      ],
      "execution_count": 5,
      "outputs": [
        {
          "output_type": "stream",
          "text": [
            "Cloning into 'skin-disease-build'...\n",
            "remote: Enumerating objects: 156, done.\u001b[K\n",
            "remote: Counting objects: 100% (156/156), done.\u001b[K\n",
            "remote: Compressing objects: 100% (119/119), done.\u001b[K\n",
            "remote: Total 18517 (delta 71), reused 106 (delta 32), pack-reused 18361\u001b[K\n",
            "Receiving objects: 100% (18517/18517), 1.61 GiB | 22.63 MiB/s, done.\n",
            "Resolving deltas: 100% (73/73), done.\n",
            "Checking out files: 100% (19583/19583), done.\n"
          ],
          "name": "stdout"
        }
      ]
    },
    {
      "cell_type": "code",
      "metadata": {
        "colab": {
          "base_uri": "https://localhost:8080/"
        },
        "id": "vXr6YPZB9Lcq",
        "outputId": "96bff8d4-b5b4-49ae-8029-1373583ab50e"
      },
      "source": [
        "train_dir = r\"/content/skin-disease-build/dataset/train\"\n",
        "test_dir=r\"/content/skin-disease-build/dataset/test\"\n",
        "os.listdir(train_dir)"
      ],
      "execution_count": 6,
      "outputs": [
        {
          "output_type": "execute_result",
          "data": {
            "text/plain": [
              "['Melanoma Skin Cancer Nevi and Moles',\n",
              " 'Seborrheic Keratoses and other Benign Tumors',\n",
              " 'Lupus and other Connective Tissue diseases',\n",
              " 'Hair Loss Photos Alopecia and other Hair Diseases',\n",
              " 'Light Diseases and Disorders of Pigmentation',\n",
              " 'Systemic Disease',\n",
              " 'Cellulitis Impetigo and other Bacterial Infections',\n",
              " 'Warts Molluscum and other Viral Infections',\n",
              " 'Scabies Lyme Disease and other Infestations and Bites',\n",
              " 'Atopic Dermatitis Photos',\n",
              " 'Psoriasis pictures Lichen Planus and related diseases',\n",
              " 'Nail Fungus and other Nail Disease',\n",
              " 'Eczema Photos',\n",
              " 'Urticaria Hives',\n",
              " 'Poison Ivy Photos and other Contact Dermatitis',\n",
              " 'Bullous Disease Photos',\n",
              " 'Herpes HPV and other STDs Photos',\n",
              " 'Vascular Tumors',\n",
              " 'Vasculitis Photos',\n",
              " 'Actinic Keratosis Basal Cell Carcinoma and other Malignant Lesions',\n",
              " 'Exanthems and Drug Eruptions',\n",
              " 'Acne and Rosacea Photos',\n",
              " 'Tinea Ringworm Candidiasis and other Fungal Infections']"
            ]
          },
          "metadata": {
            "tags": []
          },
          "execution_count": 6
        }
      ]
    },
    {
      "cell_type": "markdown",
      "metadata": {
        "id": "qgVgkjkVEMX2"
      },
      "source": [
        "# **Image Generator**"
      ]
    },
    {
      "cell_type": "code",
      "metadata": {
        "colab": {
          "base_uri": "https://localhost:8080/"
        },
        "id": "ZVsieuoFSGL5",
        "outputId": "a95f37a6-2e69-4d06-b10c-66b819198c4a"
      },
      "source": [
        "datagen = ImageDataGenerator(\n",
        "        featurewise_center=False,  # set input mean to 0 over the dataset\n",
        "        samplewise_center=False,  # set each sample mean to 0\n",
        "        featurewise_std_normalization=False,  # divide inputs by std of the dataset\n",
        "        samplewise_std_normalization=False,  # divide each input by its std\n",
        "        zca_whitening=False,  # apply ZCA whitening\n",
        "        rotation_range=10,  # randomly rotate images in the range (degrees, 0 to 180)\n",
        "        zoom_range = 0.1, # Randomly zoom image \n",
        "        width_shift_range=0.1,  # randomly shift images horizontally (fraction of total width)\n",
        "        height_shift_range=0.1,  # randomly shift images vertically (fraction of total height)\n",
        "        horizontal_flip=True,  # randomly flip images\n",
        "        vertical_flip=True,   # randomly flip images\n",
        "        validation_split = 0.2)\n",
        "\n",
        "train_gen = datagen.flow_from_directory(train_dir,\n",
        "                                       batch_size=32,\n",
        "                                       class_mode='sparse',\n",
        "                                       target_size=(200,200),\n",
        "                                       subset = 'training')\n",
        "valid_gen = datagen.flow_from_directory(train_dir,\n",
        "                                       batch_size=32,\n",
        "                                       class_mode='sparse',\n",
        "                                       target_size=(200,200),\n",
        "                                       subset = 'validation')\n"
      ],
      "execution_count": 7,
      "outputs": [
        {
          "output_type": "stream",
          "text": [
            "Found 12453 images belonging to 23 classes.\n",
            "Found 3104 images belonging to 23 classes.\n"
          ],
          "name": "stdout"
        }
      ]
    },
    {
      "cell_type": "markdown",
      "metadata": {
        "id": "6HLbLgulQqJk"
      },
      "source": [
        "#**Model**"
      ]
    },
    {
      "cell_type": "code",
      "metadata": {
        "id": "53-Be7c1R0BZ",
        "outputId": "106e6213-77fb-48be-864c-9c0d1c28b22c",
        "colab": {
          "base_uri": "https://localhost:8080/"
        }
      },
      "source": [
        "base_model = InceptionV3(input_shape = (200, 200, 3), include_top = False, weights = 'imagenet')\n",
        "model = Sequential()\n",
        "model.add(base_model)\n",
        "model.add(Flatten())\n",
        "model.add(Dropout(0.5))\n",
        "model.add(Dense(128, activation=\"relu\"))\n",
        "model.add(Dropout(0.5))\n",
        "model.add(Dense(23, activation = 'softmax'))\n",
        "\n",
        "for layer in base_model.layers:\n",
        "    layer.trainable = False\n",
        "\n",
        "for layer in base_model.layers[-25:]:\n",
        "    layer.trainable = True\n",
        "\n",
        "optimizer = Adam(lr=0.001, beta_1=0.9, beta_2=0.999, epsilon=None, decay=0.0, amsgrad=False)\n",
        "\n",
        "model.compile(optimizer = optimizer , loss = \"sparse_categorical_crossentropy\", metrics=[\"sparse_categorical_accuracy\"])\n",
        "epochs = 40\n",
        "model.summary()"
      ],
      "execution_count": 16,
      "outputs": [
        {
          "output_type": "stream",
          "text": [
            "Model: \"sequential_3\"\n",
            "_________________________________________________________________\n",
            "Layer (type)                 Output Shape              Param #   \n",
            "=================================================================\n",
            "inception_v3 (Functional)    (None, 4, 4, 2048)        21802784  \n",
            "_________________________________________________________________\n",
            "flatten (Flatten)            (None, 32768)             0         \n",
            "_________________________________________________________________\n",
            "dropout_6 (Dropout)          (None, 32768)             0         \n",
            "_________________________________________________________________\n",
            "dense_6 (Dense)              (None, 128)               4194432   \n",
            "_________________________________________________________________\n",
            "dropout_7 (Dropout)          (None, 128)               0         \n",
            "_________________________________________________________________\n",
            "dense_7 (Dense)              (None, 23)                2967      \n",
            "=================================================================\n",
            "Total params: 26,000,183\n",
            "Trainable params: 7,017,879\n",
            "Non-trainable params: 18,982,304\n",
            "_________________________________________________________________\n"
          ],
          "name": "stdout"
        }
      ]
    },
    {
      "cell_type": "markdown",
      "metadata": {
        "id": "mWE6hQqiSdC4"
      },
      "source": [
        "# **Compile and Run Model**"
      ]
    },
    {
      "cell_type": "code",
      "metadata": {
        "colab": {
          "base_uri": "https://localhost:8080/"
        },
        "id": "eOlB3I4NSQAt",
        "outputId": "0d5af2c4-48be-49d6-97ac-443a99b3b51e"
      },
      "source": [
        "history = model.fit_generator(train_gen,epochs = epochs,\r\n",
        "                             validation_data = valid_gen,\r\n",
        "                             steps_per_epoch = train_gen.n//train_gen.batch_size,\r\n",
        "                             validation_steps = valid_gen.n//valid_gen.batch_size)\r\n"
      ],
      "execution_count": null,
      "outputs": [
        {
          "output_type": "stream",
          "text": [
            "/usr/local/lib/python3.6/dist-packages/tensorflow/python/keras/engine/training.py:1844: UserWarning: `Model.fit_generator` is deprecated and will be removed in a future version. Please use `Model.fit`, which supports generators.\n",
            "  warnings.warn('`Model.fit_generator` is deprecated and '\n"
          ],
          "name": "stderr"
        },
        {
          "output_type": "stream",
          "text": [
            "Epoch 1/40\n",
            "389/389 [==============================] - 1293s 3s/step - loss: 3.4255 - sparse_categorical_accuracy: 0.0763 - val_loss: 3.0522 - val_sparse_categorical_accuracy: 0.0905\n",
            "Epoch 2/40\n",
            "389/389 [==============================] - 1299s 3s/step - loss: 3.0391 - sparse_categorical_accuracy: 0.0880 - val_loss: 3.0094 - val_sparse_categorical_accuracy: 0.0905\n",
            "Epoch 3/40\n",
            "389/389 [==============================] - 1297s 3s/step - loss: 3.0083 - sparse_categorical_accuracy: 0.0893 - val_loss: 2.9897 - val_sparse_categorical_accuracy: 0.0905\n",
            "Epoch 4/40\n",
            "211/389 [===============>..............] - ETA: 8:00 - loss: 2.9916 - sparse_categorical_accuracy: 0.0902"
          ],
          "name": "stdout"
        }
      ]
    },
    {
      "cell_type": "markdown",
      "metadata": {
        "id": "VfDvJMXdlcyG"
      },
      "source": [
        "## **GRAPH**"
      ]
    },
    {
      "cell_type": "code",
      "metadata": {
        "colab": {
          "base_uri": "https://localhost:8080/",
          "height": 231
        },
        "id": "FT0RwFaOSmL2",
        "outputId": "6fd7d47d-0a64-40bf-ab3d-a1471a476896"
      },
      "source": [
        "%matplotlib inline\n",
        "import matplotlib.pyplot as plt\n",
        "acc = history.history['accuracy']\n",
        "val_acc = history.history['val_acc']\n",
        "loss = history.history['loss']\n",
        "val_loss = history.history['val_loss']\n",
        "\n",
        "epochs = range(len(acc))\n",
        "\n",
        "plt.plot(epochs, acc, 'r', label='Training accuracy')\n",
        "plt.plot(epochs, val_acc, 'b', label='Validation accuracy')\n",
        "plt.title('Training and validation accuracy')\n",
        "plt.legend(loc=0)\n",
        "plt.figure()\n",
        "\n",
        "\n",
        "plt.show()"
      ],
      "execution_count": null,
      "outputs": [
        {
          "output_type": "error",
          "ename": "KeyError",
          "evalue": "ignored",
          "traceback": [
            "\u001b[0;31m---------------------------------------------------------------------------\u001b[0m",
            "\u001b[0;31mKeyError\u001b[0m                                  Traceback (most recent call last)",
            "\u001b[0;32m<ipython-input-52-3be86d55f053>\u001b[0m in \u001b[0;36m<module>\u001b[0;34m()\u001b[0m\n\u001b[1;32m      1\u001b[0m \u001b[0mget_ipython\u001b[0m\u001b[0;34m(\u001b[0m\u001b[0;34m)\u001b[0m\u001b[0;34m.\u001b[0m\u001b[0mmagic\u001b[0m\u001b[0;34m(\u001b[0m\u001b[0;34m'matplotlib inline'\u001b[0m\u001b[0;34m)\u001b[0m\u001b[0;34m\u001b[0m\u001b[0;34m\u001b[0m\u001b[0m\n\u001b[1;32m      2\u001b[0m \u001b[0;32mimport\u001b[0m \u001b[0mmatplotlib\u001b[0m\u001b[0;34m.\u001b[0m\u001b[0mpyplot\u001b[0m \u001b[0;32mas\u001b[0m \u001b[0mplt\u001b[0m\u001b[0;34m\u001b[0m\u001b[0;34m\u001b[0m\u001b[0m\n\u001b[0;32m----> 3\u001b[0;31m \u001b[0macc\u001b[0m \u001b[0;34m=\u001b[0m \u001b[0mhistory\u001b[0m\u001b[0;34m.\u001b[0m\u001b[0mhistory\u001b[0m\u001b[0;34m[\u001b[0m\u001b[0;34m'acc'\u001b[0m\u001b[0;34m]\u001b[0m\u001b[0;34m\u001b[0m\u001b[0;34m\u001b[0m\u001b[0m\n\u001b[0m\u001b[1;32m      4\u001b[0m \u001b[0mval_acc\u001b[0m \u001b[0;34m=\u001b[0m \u001b[0mhistory\u001b[0m\u001b[0;34m.\u001b[0m\u001b[0mhistory\u001b[0m\u001b[0;34m[\u001b[0m\u001b[0;34m'val_acc'\u001b[0m\u001b[0;34m]\u001b[0m\u001b[0;34m\u001b[0m\u001b[0;34m\u001b[0m\u001b[0m\n\u001b[1;32m      5\u001b[0m \u001b[0mloss\u001b[0m \u001b[0;34m=\u001b[0m \u001b[0mhistory\u001b[0m\u001b[0;34m.\u001b[0m\u001b[0mhistory\u001b[0m\u001b[0;34m[\u001b[0m\u001b[0;34m'loss'\u001b[0m\u001b[0;34m]\u001b[0m\u001b[0;34m\u001b[0m\u001b[0;34m\u001b[0m\u001b[0m\n",
            "\u001b[0;31mKeyError\u001b[0m: 'acc'"
          ]
        }
      ]
    },
    {
      "cell_type": "code",
      "metadata": {
        "id": "G1HghUaklhZh"
      },
      "source": [
        ""
      ],
      "execution_count": null,
      "outputs": []
    }
  ]
}