{
  "nbformat": 4,
  "nbformat_minor": 0,
  "metadata": {
    "colab": {
      "name": "CNN_model.ipynb",
      "provenance": [],
      "collapsed_sections": [],
      "include_colab_link": true
    },
    "kernelspec": {
      "name": "python3",
      "display_name": "Python 3"
    }
  },
  "cells": [
    {
      "cell_type": "markdown",
      "metadata": {
        "id": "view-in-github",
        "colab_type": "text"
      },
      "source": [
        "<a href=\"https://colab.research.google.com/github/mahenoor22/skin-disease-build/blob/main/model_build/CNN_model.ipynb\" target=\"_parent\"><img src=\"https://colab.research.google.com/assets/colab-badge.svg\" alt=\"Open In Colab\"/></a>"
      ]
    },
    {
      "cell_type": "code",
      "metadata": {
        "id": "_fehlOQ9Ri8i"
      },
      "source": [
        "\r\n",
        "import os\r\n",
        "import pandas as pd\r\n",
        "import numpy as np\r\n",
        "import matplotlib.pyplot as plt\r\n",
        "from glob import glob\r\n",
        "from keras.datasets import mnist\r\n",
        "from keras.utils.np_utils import to_categorical\r\n",
        "from keras.callbacks import EarlyStopping\r\n",
        "from keras.preprocessing.image import ImageDataGenerator\r\n",
        "from keras.callbacks import ReduceLROnPlateau\r\n",
        "from keras.models import Sequential\r\n",
        "from keras.layers import Dense, Dropout, Flatten\r\n",
        "from keras.layers import Conv2D, MaxPooling2D\r\n",
        "from sklearn.model_selection import train_test_split\r\n",
        "from typing import Optional\r\n",
        "from kaggle.api.kaggle_api_extended import KaggleApi\r\n",
        "from PIL import Image\r\n",
        "!chmod 600 /content/kaggle.json"
      ],
      "execution_count": null,
      "outputs": []
    },
    {
      "cell_type": "code",
      "metadata": {
        "id": "eQzevlwHMOHx"
      },
      "source": [
        "os.environ['KAGGLE_CONFIG_DIR']='/content'\r\n",
        "!kaggle datasets download -d kmader/skin-cancer-mnist-ham10000"
      ],
      "execution_count": null,
      "outputs": []
    },
    {
      "cell_type": "code",
      "metadata": {
        "id": "x3qy_5-KMZv6"
      },
      "source": [
        "!unzip \\*.zip && rm *.zip"
      ],
      "execution_count": null,
      "outputs": []
    },
    {
      "cell_type": "code",
      "metadata": {
        "id": "zxZ1_VeWSgjC"
      },
      "source": [
        "train_dir = r\"/content/base_dir/base_dir/train_dir\"\r\n",
        "test_dir=r\"/content/base_dir/base_dir/val_dir\""
      ],
      "execution_count": null,
      "outputs": []
    },
    {
      "cell_type": "code",
      "metadata": {
        "id": "Qa7D5ihxrpjn"
      },
      "source": [
        "data = pd.read_csv('/content/hmnist_28_28_RGB.csv')\r\n",
        "\r\n",
        "X = data.drop(columns='label')/255\r\n",
        "Y = data['label']\r\n",
        "\r\n",
        "num_rows, num_cols = 28, 28\r\n",
        "num_classes = len(set(Y))\r\n",
        "\r\n",
        "X = np.array(X)\r\n",
        "X = X.reshape(X.shape[0], num_rows, num_cols, 3)\r\n",
        "\r\n",
        "Y = np.eye(num_classes)[np.array(Y.astype(int)).reshape(-1)]\r\n",
        "\r\n",
        "X_train, X_test, y_train, y_test = train_test_split(X, Y, test_size=0.20, random_state=42)\r\n",
        "#Split the dataset into 80% training and 20% test\r\n",
        "\r\n",
        "X_train, X_validate, y_train, y_validate = train_test_split(X_train, y_train, test_size=0.10, random_state=42)\r\n"
      ],
      "execution_count": null,
      "outputs": []
    },
    {
      "cell_type": "code",
      "metadata": {
        "id": "6Pw0dDuWSz1_"
      },
      "source": [
        "base_skin_dir = os.path.join('..', '/content')\r\n",
        "imageid_path_dict = {os.path.splitext(os.path.basename(x))[0]: x\r\n",
        "                     for x in glob(os.path.join(base_skin_dir, '*', '*.jpg'))}\r\n",
        "\r\n",
        "lesion_type_dict = {\r\n",
        "    'nv': 'Melanocytic nevi',\r\n",
        "    'mel': 'Melanoma',\r\n",
        "    'bkl': 'Benign keratosis-like lesions ',\r\n",
        "    'bcc': 'Basal cell carcinoma',\r\n",
        "    'akiec': 'Actinic keratoses',\r\n",
        "    'vasc': 'Vascular lesions',\r\n",
        "    'df': 'Dermatofibroma'\r\n",
        "}"
      ],
      "execution_count": null,
      "outputs": []
    },
    {
      "cell_type": "code",
      "metadata": {
        "id": "tmh48_5lqut8"
      },
      "source": [
        "skin_data = pd.read_csv(os.path.join(base_skin_dir, 'HAM10000_metadata.csv'))\r\n",
        "skin_data['path'] = skin_data['image_id'].map(imageid_path_dict.get)\r\n",
        "skin_data['cell_type'] = skin_data['dx'].map(lesion_type_dict.get) \r\n",
        "skin_data['cell_type_idx'] = pd.Categorical(skin_data['cell_type']).codes\r\n",
        "skin_data.sample(3)\r\n",
        "skin_data.isnull().sum()"
      ],
      "execution_count": null,
      "outputs": []
    },
    {
      "cell_type": "code",
      "metadata": {
        "id": "Y5yHopy_-vhp"
      },
      "source": [
        "skin_data['age'].fillna((skin_data['age'].mean()), inplace=True)\r\n",
        "#Replace null age with mean age\r\n",
        "\r\n",
        "skin_data['image'] = skin_data['path'].map(lambda x: np.asarray(Image.open(x).resize((28,28))))"
      ],
      "execution_count": null,
      "outputs": []
    },
    {
      "cell_type": "code",
      "metadata": {
        "id": "pVOQ61TKq6ZC"
      },
      "source": [
        "\r\n",
        "n_samples = 5\r\n",
        "fig, m_axs = plt.subplots(7, n_samples, figsize = (4*n_samples, 3*7))\r\n",
        "for n_axs, (type_name, type_rows) in zip(m_axs, \r\n",
        "                                         skin_data.sort_values(['cell_type']).groupby('cell_type')):\r\n",
        "    n_axs[0].set_title(type_name)\r\n",
        "    for c_ax, (_, c_row) in zip(n_axs, type_rows.sample(n_samples, random_state=6542).iterrows()):\r\n",
        "        c_ax.imshow(c_row['image'])\r\n",
        "        c_ax.axis('off')"
      ],
      "execution_count": null,
      "outputs": []
    },
    {
      "cell_type": "code",
      "metadata": {
        "id": "vyXsgwMe_mh4"
      },
      "source": [
        "skin_data['image'].map(lambda x: x.shape).value_counts()\r\n"
      ],
      "execution_count": null,
      "outputs": []
    },
    {
      "cell_type": "code",
      "metadata": {
        "id": "MtiIZv-eTCsu"
      },
      "source": [
        "input_shape = (28, 28, 3)\r\n",
        "num_classes = 7\r\n",
        "model = Sequential([\r\n",
        "    Conv2D(32, 3, padding='same', activation='relu', input_shape=input_shape),\r\n",
        "    Conv2D(32, 3, padding='same', activation='relu'),\r\n",
        "    MaxPooling2D(),\r\n",
        "    Dropout(0.25),\r\n",
        "\r\n",
        "    Conv2D(64, 3, padding='same', activation='relu', input_shape=input_shape),\r\n",
        "    Conv2D(64, 3, padding='same', activation='relu'),\r\n",
        "    MaxPooling2D(),\r\n",
        "    Dropout(0.4),\r\n",
        "    \r\n",
        "    Conv2D(128, 3, padding='same', activation='relu'),\r\n",
        "    MaxPooling2D(),\r\n",
        "    Dropout(0.5),\r\n",
        "    \r\n",
        "    Flatten(),\r\n",
        "    Dense(512, activation='relu'),\r\n",
        "    Dropout(0.55),\r\n",
        "    Dense(7, activation='softmax')\r\n",
        "])\r\n",
        "\r\n",
        "model.compile(optimizer='adam',\r\n",
        "              loss='binary_crossentropy',\r\n",
        "              metrics=['accuracy'])\r\n",
        "\r\n",
        "learning_rate_reduction = ReduceLROnPlateau(monitor='val_accuracy', \r\n",
        "                                            patience=3, \r\n",
        "                                            verbose=1, \r\n",
        "                                            factor=0.5, \r\n",
        "                                            min_lr=0.00001)\r\n",
        "\r\n",
        "model.summary()"
      ],
      "execution_count": null,
      "outputs": []
    },
    {
      "cell_type": "code",
      "metadata": {
        "id": "otLL0nRuS4Es"
      },
      "source": [
        "datagen = ImageDataGenerator(\r\n",
        "        featurewise_center=False,  \r\n",
        "        samplewise_center=False,  \r\n",
        "        featurewise_std_normalization=False,  \r\n",
        "        samplewise_std_normalization=False,  \r\n",
        "        zca_whitening=False,  \r\n",
        "        rotation_range=10,  \r\n",
        "        zoom_range = 0.1,\r\n",
        "        width_shift_range=0.1,  \r\n",
        "        height_shift_range=0.1,  \r\n",
        "        horizontal_flip=False,  \r\n",
        "        vertical_flip=False)  \r\n",
        "datagen.fit(X_train)"
      ],
      "execution_count": null,
      "outputs": []
    },
    {
      "cell_type": "code",
      "metadata": {
        "id": "5i2NB7hHTJad"
      },
      "source": [
        "\r\n",
        "epochs = 30\r\n",
        "batch_size = 100\r\n",
        "history = model.fit_generator(\r\n",
        "    datagen.flow(X_train,y_train, batch_size=batch_size),\r\n",
        "    steps_per_epoch=X_train.shape[0] // batch_size,\r\n",
        "    epochs=epochs,\r\n",
        "    validation_data=(X_validate,y_validate),\r\n",
        "    validation_steps=X_validate.shape[0] // batch_size\r\n",
        "    ,callbacks=[learning_rate_reduction]\r\n",
        ")"
      ],
      "execution_count": null,
      "outputs": []
    },
    {
      "cell_type": "code",
      "metadata": {
        "id": "r1fP0UNbu_vB"
      },
      "source": [
        "loss, accuracy = model.evaluate(X_test, y_test, verbose=1)\r\n",
        "print(\"Test: accuracy = %f  ;  loss = %f\" % (accuracy, loss))"
      ],
      "execution_count": null,
      "outputs": []
    },
    {
      "cell_type": "markdown",
      "metadata": {
        "id": "zZq5pn1IIu6p"
      },
      "source": [
        "## **SAVE AND LOAD MODEL**"
      ]
    },
    {
      "cell_type": "code",
      "metadata": {
        "id": "GEBPwztSLBbI"
      },
      "source": [
        "if os.path.isfile('/content/model_build/CNN_model.h5') is False:\r\n",
        "  model.save('model_build/CNN_model.h5')"
      ],
      "execution_count": null,
      "outputs": []
    },
    {
      "cell_type": "code",
      "metadata": {
        "id": "6OoanW4OH3I1"
      },
      "source": [
        "from tensorflow.keras.models import load_model\r\n",
        "new_model=load_model(\"model_build/CNN_model.h5\")"
      ],
      "execution_count": null,
      "outputs": []
    },
    {
      "cell_type": "code",
      "metadata": {
        "id": "qekCs8ETIKeK"
      },
      "source": [
        "new_model.summary()\r\n",
        "new_model.get_weights()\r\n",
        "new_model.optimizer"
      ],
      "execution_count": null,
      "outputs": []
    },
    {
      "cell_type": "markdown",
      "metadata": {
        "id": "LX5WKKOeIri3"
      },
      "source": [
        "## **MODEL to Json**"
      ]
    },
    {
      "cell_type": "code",
      "metadata": {
        "id": "_X2s50NNIrAf"
      },
      "source": [
        "#save as JSON\r\n",
        "json_string=model.to_json()\r\n",
        "\r\n",
        "json_string\r\n",
        "from tensorflow.keras.models import model_from_json\r\n",
        "model_arch=model_from_json(json_string)\r\n",
        "model_arch.summary()"
      ],
      "execution_count": null,
      "outputs": []
    },
    {
      "cell_type": "code",
      "metadata": {
        "colab": {
          "base_uri": "https://localhost:8080/",
          "height": 673
        },
        "id": "MR9OfF81I8yM",
        "outputId": "207eecfa-5b94-44b0-d589-3a9f585bfabe"
      },
      "source": [
        "import numpy as np\r\n",
        "from keras.preprocessing import image\r\n",
        "from tensorflow.keras.applications.resnet50 import preprocess_input, decode_predictions\r\n",
        "# img_width, img_height = 28,28\r\n",
        "# img = image.load_img('/content/ISIC_0026993.jpg', target_size = (img_width, img_height))\r\n",
        "# img = image.img_to_array(img)\r\n",
        "# img = np.expand_dims(img, axis = 0)\r\n",
        "# pred=model.predict_classes(img)\r\n",
        "\r\n",
        "# pred = lesion_type_dict[\"label_names\"][np.argmax(pred)]\r\n",
        "\r\n",
        "image_path=\"/content/ISIC_0026993.jpg\"\r\n",
        "img = image.load_img(image_path, target_size=(28,28))\r\n",
        "plt.imshow(img)\r\n",
        "img = np.expand_dims(img, axis=0)\r\n",
        "result=model.predict_classes(img)\r\n",
        "print(decode_predictions(result, top=3)[0])\r\n",
        "plt.show()"
      ],
      "execution_count": 41,
      "outputs": [
        {
          "output_type": "stream",
          "text": [
            "/usr/local/lib/python3.6/dist-packages/tensorflow/python/keras/engine/sequential.py:450: UserWarning: `model.predict_classes()` is deprecated and will be removed after 2021-01-01. Please use instead:* `np.argmax(model.predict(x), axis=-1)`,   if your model does multi-class classification   (e.g. if it uses a `softmax` last-layer activation).* `(model.predict(x) > 0.5).astype(\"int32\")`,   if your model does binary classification   (e.g. if it uses a `sigmoid` last-layer activation).\n",
            "  warnings.warn('`model.predict_classes()` is deprecated and '\n"
          ],
          "name": "stderr"
        },
        {
          "output_type": "error",
          "ename": "ValueError",
          "evalue": "ignored",
          "traceback": [
            "\u001b[0;31m---------------------------------------------------------------------------\u001b[0m",
            "\u001b[0;31mValueError\u001b[0m                                Traceback (most recent call last)",
            "\u001b[0;32m<ipython-input-41-88825819d7c3>\u001b[0m in \u001b[0;36m<module>\u001b[0;34m()\u001b[0m\n\u001b[1;32m     15\u001b[0m \u001b[0mimg\u001b[0m \u001b[0;34m=\u001b[0m \u001b[0mnp\u001b[0m\u001b[0;34m.\u001b[0m\u001b[0mexpand_dims\u001b[0m\u001b[0;34m(\u001b[0m\u001b[0mimg\u001b[0m\u001b[0;34m,\u001b[0m \u001b[0maxis\u001b[0m\u001b[0;34m=\u001b[0m\u001b[0;36m0\u001b[0m\u001b[0;34m)\u001b[0m\u001b[0;34m\u001b[0m\u001b[0;34m\u001b[0m\u001b[0m\n\u001b[1;32m     16\u001b[0m \u001b[0mresult\u001b[0m\u001b[0;34m=\u001b[0m\u001b[0mmodel\u001b[0m\u001b[0;34m.\u001b[0m\u001b[0mpredict_classes\u001b[0m\u001b[0;34m(\u001b[0m\u001b[0mimg\u001b[0m\u001b[0;34m)\u001b[0m\u001b[0;34m\u001b[0m\u001b[0;34m\u001b[0m\u001b[0m\n\u001b[0;32m---> 17\u001b[0;31m \u001b[0mprint\u001b[0m\u001b[0;34m(\u001b[0m\u001b[0mdecode_predictions\u001b[0m\u001b[0;34m(\u001b[0m\u001b[0mresult\u001b[0m\u001b[0;34m,\u001b[0m \u001b[0mtop\u001b[0m\u001b[0;34m=\u001b[0m\u001b[0;36m3\u001b[0m\u001b[0;34m)\u001b[0m\u001b[0;34m[\u001b[0m\u001b[0;36m0\u001b[0m\u001b[0;34m]\u001b[0m\u001b[0;34m)\u001b[0m\u001b[0;34m\u001b[0m\u001b[0;34m\u001b[0m\u001b[0m\n\u001b[0m\u001b[1;32m     18\u001b[0m \u001b[0mplt\u001b[0m\u001b[0;34m.\u001b[0m\u001b[0mshow\u001b[0m\u001b[0;34m(\u001b[0m\u001b[0;34m)\u001b[0m\u001b[0;34m\u001b[0m\u001b[0;34m\u001b[0m\u001b[0m\n",
            "\u001b[0;32m/usr/local/lib/python3.6/dist-packages/tensorflow/python/keras/applications/resnet.py\u001b[0m in \u001b[0;36mdecode_predictions\u001b[0;34m(preds, top)\u001b[0m\n\u001b[1;32m    525\u001b[0m               'keras.applications.resnet.decode_predictions')\n\u001b[1;32m    526\u001b[0m \u001b[0;32mdef\u001b[0m \u001b[0mdecode_predictions\u001b[0m\u001b[0;34m(\u001b[0m\u001b[0mpreds\u001b[0m\u001b[0;34m,\u001b[0m \u001b[0mtop\u001b[0m\u001b[0;34m=\u001b[0m\u001b[0;36m5\u001b[0m\u001b[0;34m)\u001b[0m\u001b[0;34m:\u001b[0m\u001b[0;34m\u001b[0m\u001b[0;34m\u001b[0m\u001b[0m\n\u001b[0;32m--> 527\u001b[0;31m   \u001b[0;32mreturn\u001b[0m \u001b[0mimagenet_utils\u001b[0m\u001b[0;34m.\u001b[0m\u001b[0mdecode_predictions\u001b[0m\u001b[0;34m(\u001b[0m\u001b[0mpreds\u001b[0m\u001b[0;34m,\u001b[0m \u001b[0mtop\u001b[0m\u001b[0;34m=\u001b[0m\u001b[0mtop\u001b[0m\u001b[0;34m)\u001b[0m\u001b[0;34m\u001b[0m\u001b[0;34m\u001b[0m\u001b[0m\n\u001b[0m\u001b[1;32m    528\u001b[0m \u001b[0;34m\u001b[0m\u001b[0m\n\u001b[1;32m    529\u001b[0m \u001b[0;34m\u001b[0m\u001b[0m\n",
            "\u001b[0;32m/usr/local/lib/python3.6/dist-packages/tensorflow/python/keras/applications/imagenet_utils.py\u001b[0m in \u001b[0;36mdecode_predictions\u001b[0;34m(preds, top)\u001b[0m\n\u001b[1;32m    149\u001b[0m                      \u001b[0;34m'a batch of predictions '\u001b[0m\u001b[0;34m\u001b[0m\u001b[0;34m\u001b[0m\u001b[0m\n\u001b[1;32m    150\u001b[0m                      \u001b[0;34m'(i.e. a 2D array of shape (samples, 1000)). '\u001b[0m\u001b[0;34m\u001b[0m\u001b[0;34m\u001b[0m\u001b[0m\n\u001b[0;32m--> 151\u001b[0;31m                      'Found array with shape: ' + str(preds.shape))\n\u001b[0m\u001b[1;32m    152\u001b[0m   \u001b[0;32mif\u001b[0m \u001b[0mCLASS_INDEX\u001b[0m \u001b[0;32mis\u001b[0m \u001b[0;32mNone\u001b[0m\u001b[0;34m:\u001b[0m\u001b[0;34m\u001b[0m\u001b[0;34m\u001b[0m\u001b[0m\n\u001b[1;32m    153\u001b[0m     fpath = data_utils.get_file(\n",
            "\u001b[0;31mValueError\u001b[0m: `decode_predictions` expects a batch of predictions (i.e. a 2D array of shape (samples, 1000)). Found array with shape: (1,)"
          ]
        },
        {
          "output_type": "display_data",
          "data": {
            "image/png": "[encoded data removed]",
            "text/plain": [
              "<Figure size 432x288 with 1 Axes>"
            ]
          },
          "metadata": {
            "tags": [],
            "needs_background": "light"
          }
        }
      ]
    },
    {
      "cell_type": "code",
      "metadata": {
        "id": "oFYO5o2Q1geE"
      },
      "source": [
        ""
      ],
      "execution_count": null,
      "outputs": []
    }
  ]
}