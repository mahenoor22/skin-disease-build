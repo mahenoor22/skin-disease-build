{
  "nbformat": 4,
  "nbformat_minor": 0,
  "metadata": {
    "colab": {
      "name": "HAM28 Final.ipynb",
      "provenance": [],
      "collapsed_sections": [],
      "include_colab_link": true
    },
    "kernelspec": {
      "name": "python3",
      "display_name": "Python 3"
    },
    "accelerator": "GPU"
  },
  "cells": [
    {
      "cell_type": "markdown",
      "metadata": {
        "id": "view-in-github",
        "colab_type": "text"
      },
      "source": [
        "<a href=\"https://colab.research.google.com/github/mahenoor22/skin-disease-build/blob/main/model_build/HAM28_Final.ipynb\" target=\"_parent\"><img src=\"https://colab.research.google.com/assets/colab-badge.svg\" alt=\"Open In Colab\"/></a>"
      ]
    },
    {
      "cell_type": "code",
      "metadata": {
        "id": "C0l-8hJYSoDE"
      },
      "source": [
        "import os\n",
        "import pandas as pd\n",
        "import numpy as np\n",
        "import matplotlib.pyplot as plt\n",
        "import PIL as pil\n",
        "from tensorflow.keras.preprocessing.image import ImageDataGenerator\n",
        "from tensorflow.keras.utils import to_categorical\n",
        "from sklearn.model_selection import train_test_split\n",
        "import seaborn as sns\n",
        " \n",
        "!chmod 600 /content/kaggle.json"
      ],
      "execution_count": null,
      "outputs": []
    },
    {
      "cell_type": "markdown",
      "metadata": {
        "id": "rKjn6DvRjeRp"
      },
      "source": [
        "# **Visualising Dataset**"
      ]
    },
    {
      "cell_type": "code",
      "metadata": {
        "id": "RK9Us_pIi7Yx"
      },
      "source": [
        "os.environ['KAGGLE_CONFIG_DIR']='/content'\n",
        "!kaggle datasets download -d kmader/skin-cancer-mnist-ham10000\n",
        "!unzip \\*.zip && rm *.zip\n",
        "meta=pd.read_csv('/content/HAM10000_metadata.csv')\n",
        "meta.info()"
      ],
      "execution_count": null,
      "outputs": []
    },
    {
      "cell_type": "code",
      "metadata": {
        "id": "8jARRxg_ki6H",
        "colab": {
          "base_uri": "https://localhost:8080/",
          "height": 197
        },
        "outputId": "58fcf1e8-8063-41cf-e396-66fcbb12286e"
      },
      "source": [
        "meta.head()"
      ],
      "execution_count": null,
      "outputs": [
        {
          "output_type": "execute_result",
          "data": {
            "text/html": [
              "<div>\n",
              "<style scoped>\n",
              "    .dataframe tbody tr th:only-of-type {\n",
              "        vertical-align: middle;\n",
              "    }\n",
              "\n",
              "    .dataframe tbody tr th {\n",
              "        vertical-align: top;\n",
              "    }\n",
              "\n",
              "    .dataframe thead th {\n",
              "        text-align: right;\n",
              "    }\n",
              "</style>\n",
              "<table border=\"1\" class=\"dataframe\">\n",
              "  <thead>\n",
              "    <tr style=\"text-align: right;\">\n",
              "      <th></th>\n",
              "      <th>lesion_id</th>\n",
              "      <th>image_id</th>\n",
              "      <th>dx</th>\n",
              "      <th>dx_type</th>\n",
              "      <th>age</th>\n",
              "      <th>sex</th>\n",
              "      <th>localization</th>\n",
              "    </tr>\n",
              "  </thead>\n",
              "  <tbody>\n",
              "    <tr>\n",
              "      <th>0</th>\n",
              "      <td>HAM_0000118</td>\n",
              "      <td>ISIC_0027419</td>\n",
              "      <td>bkl</td>\n",
              "      <td>histo</td>\n",
              "      <td>80.0</td>\n",
              "      <td>male</td>\n",
              "      <td>scalp</td>\n",
              "    </tr>\n",
              "    <tr>\n",
              "      <th>1</th>\n",
              "      <td>HAM_0000118</td>\n",
              "      <td>ISIC_0025030</td>\n",
              "      <td>bkl</td>\n",
              "      <td>histo</td>\n",
              "      <td>80.0</td>\n",
              "      <td>male</td>\n",
              "      <td>scalp</td>\n",
              "    </tr>\n",
              "    <tr>\n",
              "      <th>2</th>\n",
              "      <td>HAM_0002730</td>\n",
              "      <td>ISIC_0026769</td>\n",
              "      <td>bkl</td>\n",
              "      <td>histo</td>\n",
              "      <td>80.0</td>\n",
              "      <td>male</td>\n",
              "      <td>scalp</td>\n",
              "    </tr>\n",
              "    <tr>\n",
              "      <th>3</th>\n",
              "      <td>HAM_0002730</td>\n",
              "      <td>ISIC_0025661</td>\n",
              "      <td>bkl</td>\n",
              "      <td>histo</td>\n",
              "      <td>80.0</td>\n",
              "      <td>male</td>\n",
              "      <td>scalp</td>\n",
              "    </tr>\n",
              "    <tr>\n",
              "      <th>4</th>\n",
              "      <td>HAM_0001466</td>\n",
              "      <td>ISIC_0031633</td>\n",
              "      <td>bkl</td>\n",
              "      <td>histo</td>\n",
              "      <td>75.0</td>\n",
              "      <td>male</td>\n",
              "      <td>ear</td>\n",
              "    </tr>\n",
              "  </tbody>\n",
              "</table>\n",
              "</div>"
            ],
            "text/plain": [
              "     lesion_id      image_id   dx dx_type   age   sex localization\n",
              "0  HAM_0000118  ISIC_0027419  bkl   histo  80.0  male        scalp\n",
              "1  HAM_0000118  ISIC_0025030  bkl   histo  80.0  male        scalp\n",
              "2  HAM_0002730  ISIC_0026769  bkl   histo  80.0  male        scalp\n",
              "3  HAM_0002730  ISIC_0025661  bkl   histo  80.0  male        scalp\n",
              "4  HAM_0001466  ISIC_0031633  bkl   histo  75.0  male          ear"
            ]
          },
          "metadata": {
            "tags": []
          },
          "execution_count": 14
        }
      ]
    },
    {
      "cell_type": "code",
      "metadata": {
        "id": "ZOJIdZPfjp6f",
        "colab": {
          "base_uri": "https://localhost:8080/",
          "height": 423
        },
        "outputId": "7c30c611-2a27-4dde-a5fb-993a92ed0b8b"
      },
      "source": [
        "g = sns.catplot(x=\"dx\", kind=\"count\", palette='bright', data=meta)\n",
        "g.fig.set_size_inches(16, 5)\n",
        "\n",
        "g.ax.set_title('Skin Cancer by Class', fontsize=20)\n",
        "g.set_xlabels('Skin Cancer Class', fontsize=14)\n",
        "g.set_ylabels('Number of Data Points', fontsize=14)"
      ],
      "execution_count": null,
      "outputs": [
        {
          "output_type": "execute_result",
          "data": {
            "text/plain": [
              "<seaborn.axisgrid.FacetGrid at 0x7facf0a3ef10>"
            ]
          },
          "metadata": {
            "tags": []
          },
          "execution_count": 15
        },
        {
          "output_type": "display_data",
          "data": {
            "image/png": "[encoded data removed]",
            "text/plain": [
              "<Figure size 1152x360 with 1 Axes>"
            ]
          },
          "metadata": {
            "tags": [],
            "needs_background": "light"
          }
        }
      ]
    },
    {
      "cell_type": "markdown",
      "metadata": {
        "id": "WiRSnm9ilibi"
      },
      "source": [
        "This graph shows the dataset has a major problem of class imbalance."
      ]
    },
    {
      "cell_type": "code",
      "metadata": {
        "id": "HcJEZtJemamt",
        "colab": {
          "base_uri": "https://localhost:8080/",
          "height": 407
        },
        "outputId": "481d2d03-fcc8-49fc-af9f-1e2b39ba35ba"
      },
      "source": [
        "g = sns.catplot(x=\"dx\", kind=\"count\", hue=\"sex\", palette='coolwarm', data=meta)\n",
        "g.fig.set_size_inches(16, 5)\n",
        "\n",
        "g.ax.set_title('Skin Cancer by Sex', fontsize=20)\n",
        "g.set_xlabels('Skin Cancer Class', fontsize=14)\n",
        "g.set_ylabels('Number of Data Points', fontsize=14)\n",
        "g._legend.set_title('Sex')"
      ],
      "execution_count": null,
      "outputs": [
        {
          "output_type": "display_data",
          "data": {
            "image/png": "[encoded data removed]",
            "text/plain": [
              "<Figure size 1152x360 with 1 Axes>"
            ]
          },
          "metadata": {
            "tags": [],
            "needs_background": "light"
          }
        }
      ]
    },
    {
      "cell_type": "code",
      "metadata": {
        "id": "bzS8LibJmptv",
        "colab": {
          "base_uri": "https://localhost:8080/",
          "height": 664
        },
        "outputId": "17abda0d-7815-4a6f-8763-c100f734c2f9"
      },
      "source": [
        "g = sns.catplot(x=\"dx\", kind=\"count\", hue=\"age\", palette='bright', data=meta)\n",
        "g.fig.set_size_inches(16, 9)\n",
        "\n",
        "g.ax.set_title('Skin Cancer by Age', fontsize=20)\n",
        "g.set_xlabels('Skin Cancer Class', fontsize=14)\n",
        "g.set_ylabels('Number of Data Points', fontsize=14)\n",
        "g._legend.set_title('Age')"
      ],
      "execution_count": null,
      "outputs": [
        {
          "output_type": "display_data",
          "data": {
            "image/png": "[encoded data removed]",
            "text/plain": [
              "<Figure size 1152x648 with 1 Axes>"
            ]
          },
          "metadata": {
            "tags": [],
            "needs_background": "light"
          }
        }
      ]
    },
    {
      "cell_type": "markdown",
      "metadata": {
        "id": "Fuq7F77qij5v"
      },
      "source": [
        "# **Extracting x and y from csv file**"
      ]
    },
    {
      "cell_type": "code",
      "metadata": {
        "id": "tpUlT7hrSuGJ"
      },
      "source": [
        "df=pd.read_csv('/content/hmnist_28_28_RGB.csv')\n",
        "x=df.drop('label',axis=1)\n",
        "y=df['label']\n",
        "x=x.to_numpy()\n",
        "x=x/255\n",
        "y=to_categorical(y)"
      ],
      "execution_count": null,
      "outputs": []
    },
    {
      "cell_type": "code",
      "metadata": {
        "id": "RZwBaTpLS_yC",
        "colab": {
          "base_uri": "https://localhost:8080/"
        },
        "outputId": "19c6670f-69c5-44a1-c430-25efda850230"
      },
      "source": [
        "df['label'].value_counts()"
      ],
      "execution_count": null,
      "outputs": [
        {
          "output_type": "execute_result",
          "data": {
            "text/plain": [
              "4    6705\n",
              "6    1113\n",
              "2    1099\n",
              "1     514\n",
              "0     327\n",
              "5     142\n",
              "3     115\n",
              "Name: label, dtype: int64"
            ]
          },
          "metadata": {
            "tags": []
          },
          "execution_count": 19
        }
      ]
    },
    {
      "cell_type": "code",
      "metadata": {
        "id": "Lf6SSTrphf6i"
      },
      "source": [
        "label={\n",
        "    ' Actinic keratoses':0,\n",
        "    'Basal cell carcinoma':1,\n",
        "    'Benign keratosis-like lesions':2,\n",
        "    'Dermatofibroma':3,\n",
        "    'Melanocytic nevi':4,\n",
        "    'Melanoma':5,\n",
        "    'Vascular lesions':6\n",
        "}"
      ],
      "execution_count": null,
      "outputs": []
    },
    {
      "cell_type": "code",
      "metadata": {
        "id": "Cq3JvtnGTS_e"
      },
      "source": [
        "x=x.reshape(-1,28,28,3)"
      ],
      "execution_count": null,
      "outputs": []
    },
    {
      "cell_type": "markdown",
      "metadata": {
        "id": "CyXFB0oOm7wp"
      },
      "source": [
        "# **Spliiting into train test**"
      ]
    },
    {
      "cell_type": "code",
      "metadata": {
        "id": "W36JI4DuXBPc"
      },
      "source": [
        "xtrain,xtest,ytrain,ytest = train_test_split(x,y,test_size=0.1,random_state=13,stratify=df['label'])"
      ],
      "execution_count": null,
      "outputs": []
    },
    {
      "cell_type": "markdown",
      "metadata": {
        "id": "x_lo8S6AnF0H"
      },
      "source": [
        "# **Image augmentation**"
      ]
    },
    {
      "cell_type": "code",
      "metadata": {
        "id": "C-Bk5I-XXQ3M"
      },
      "source": [
        "datagen=ImageDataGenerator(rotation_range=20, # rotate the image 20 degrees\n",
        "                               width_shift_range=0.10, # Shift the pic width by a max of 5%\n",
        "                               height_shift_range=0.10, # Shift the pic height by a max of 5%\n",
        "                               rescale=1/255, # Rescale the image by normalzing it.\n",
        "                               shear_range=0.1, # Shear means cutting away part of the image (max 10%)\n",
        "                               zoom_range=0.1, # Zoom in by 10% max\n",
        "                               horizontal_flip=True,\n",
        "                               vertical_flip=True,\n",
        "                               fill_mode='nearest')"
      ],
      "execution_count": null,
      "outputs": []
    },
    {
      "cell_type": "code",
      "metadata": {
        "id": "4lp-1rM8XZ4M"
      },
      "source": [
        "datagen.fit(xtrain)"
      ],
      "execution_count": null,
      "outputs": []
    },
    {
      "cell_type": "markdown",
      "metadata": {
        "id": "wWDsBKvFm5IV"
      },
      "source": [
        "# **Model**"
      ]
    },
    {
      "cell_type": "code",
      "metadata": {
        "id": "rK9FAP54Hv0x"
      },
      "source": [
        "from tensorflow.keras.metrics import categorical_accuracy, top_k_categorical_accuracy\n",
        "def accuracy(y_true, y_pred):\n",
        "    return top_k_categorical_accuracy(y_true, y_pred, k=2)"
      ],
      "execution_count": null,
      "outputs": []
    },
    {
      "cell_type": "code",
      "metadata": {
        "id": "FxNe2bZRXhoa",
        "colab": {
          "base_uri": "https://localhost:8080/"
        },
        "outputId": "a88f5c28-7c59-47a1-b20c-c0b962dc7a5f"
      },
      "source": [
        "from tensorflow.keras.layers import Flatten,Dense,Dropout,BatchNormalization,Conv2D,MaxPooling2D\n",
        "from tensorflow.keras.models import Sequential\n",
        "from tensorflow.keras.metrics import Recall\n",
        "from tensorflow.keras.optimizers import RMSprop\n",
        "\n",
        "model=Sequential()\n",
        "\n",
        "model.add(Conv2D(64,(2,2),input_shape=(28,28,3),activation='relu'))\n",
        "model.add(MaxPooling2D(pool_size=(2, 2)))\n",
        "model.add(BatchNormalization())\n",
        "\n",
        "model.add(Conv2D(512,(2,2),input_shape=(28,28,3),activation='relu'))\n",
        "model.add(MaxPooling2D(pool_size=(2, 2)))\n",
        "model.add(BatchNormalization())\n",
        "\n",
        "model.add(Dropout(0.3))\n",
        "\n",
        "model.add(Conv2D(1024,(2,2),input_shape=(28,28,3),activation='relu'))\n",
        "model.add(MaxPooling2D(pool_size=(2, 2)))\n",
        "model.add(BatchNormalization())\n",
        "\n",
        "model.add(Dropout(0.3))\n",
        "\n",
        "model.add(Conv2D(1024,(1,1),input_shape=(28,28,3),activation='relu'))\n",
        "model.add(MaxPooling2D(pool_size=(1, 1)))\n",
        "model.add(BatchNormalization())\n",
        "\n",
        "model.add(Dropout(0.3))\n",
        "\n",
        "model.add(Flatten())\n",
        "\n",
        "model.add(Dense(256,activation='relu'))\n",
        "model.add(Dropout(0.5))\n",
        "\n",
        "\n",
        "model.add(Dense(7,activation='softmax'))\n",
        "\n",
        "model.compile(optimizer='adam',loss='categorical_crossentropy',metrics=[accuracy])\n",
        "\n",
        "model.summary()"
      ],
      "execution_count": null,
      "outputs": [
        {
          "output_type": "stream",
          "text": [
            "Model: \"sequential_1\"\n",
            "_________________________________________________________________\n",
            "Layer (type)                 Output Shape              Param #   \n",
            "=================================================================\n",
            "conv2d_4 (Conv2D)            (None, 27, 27, 64)        832       \n",
            "_________________________________________________________________\n",
            "max_pooling2d_4 (MaxPooling2 (None, 13, 13, 64)        0         \n",
            "_________________________________________________________________\n",
            "batch_normalization_4 (Batch (None, 13, 13, 64)        256       \n",
            "_________________________________________________________________\n",
            "conv2d_5 (Conv2D)            (None, 12, 12, 512)       131584    \n",
            "_________________________________________________________________\n",
            "max_pooling2d_5 (MaxPooling2 (None, 6, 6, 512)         0         \n",
            "_________________________________________________________________\n",
            "batch_normalization_5 (Batch (None, 6, 6, 512)         2048      \n",
            "_________________________________________________________________\n",
            "dropout_4 (Dropout)          (None, 6, 6, 512)         0         \n",
            "_________________________________________________________________\n",
            "conv2d_6 (Conv2D)            (None, 5, 5, 1024)        2098176   \n",
            "_________________________________________________________________\n",
            "max_pooling2d_6 (MaxPooling2 (None, 2, 2, 1024)        0         \n",
            "_________________________________________________________________\n",
            "batch_normalization_6 (Batch (None, 2, 2, 1024)        4096      \n",
            "_________________________________________________________________\n",
            "dropout_5 (Dropout)          (None, 2, 2, 1024)        0         \n",
            "_________________________________________________________________\n",
            "conv2d_7 (Conv2D)            (None, 2, 2, 1024)        1049600   \n",
            "_________________________________________________________________\n",
            "max_pooling2d_7 (MaxPooling2 (None, 2, 2, 1024)        0         \n",
            "_________________________________________________________________\n",
            "batch_normalization_7 (Batch (None, 2, 2, 1024)        4096      \n",
            "_________________________________________________________________\n",
            "dropout_6 (Dropout)          (None, 2, 2, 1024)        0         \n",
            "_________________________________________________________________\n",
            "flatten_1 (Flatten)          (None, 4096)              0         \n",
            "_________________________________________________________________\n",
            "dense_2 (Dense)              (None, 256)               1048832   \n",
            "_________________________________________________________________\n",
            "dropout_7 (Dropout)          (None, 256)               0         \n",
            "_________________________________________________________________\n",
            "dense_3 (Dense)              (None, 7)                 1799      \n",
            "=================================================================\n",
            "Total params: 4,341,319\n",
            "Trainable params: 4,336,071\n",
            "Non-trainable params: 5,248\n",
            "_________________________________________________________________\n"
          ],
          "name": "stdout"
        }
      ]
    },
    {
      "cell_type": "code",
      "metadata": {
        "id": "rDKApIl3Zup6"
      },
      "source": [
        "from tensorflow.keras.callbacks import EarlyStopping,ReduceLROnPlateau\n",
        "\n",
        "early=EarlyStopping(monitor='accuracy',patience=3)\n",
        "reduce_lr = ReduceLROnPlateau(monitor='accuracy', factor=0.5, patience=2, verbose=1, mode='min', min_lr=0.0001)"
      ],
      "execution_count": null,
      "outputs": []
    },
    {
      "cell_type": "markdown",
      "metadata": {
        "id": "Rq8E0DClnPzd"
      },
      "source": [
        "# **Training**"
      ]
    },
    {
      "cell_type": "code",
      "metadata": {
        "id": "CNyQYcjcJZh2"
      },
      "source": [
        "from tensorflow.keras.metrics import categorical_accuracy, top_k_categorical_accuracy\n",
        "def accuracy(y_true, y_pred):\n",
        "    return top_k_categorical_accuracy(y_true, y_pred, k=2)"
      ],
      "execution_count": null,
      "outputs": []
    },
    {
      "cell_type": "code",
      "metadata": {
        "id": "IYNa6dMvwuzf"
      },
      "source": [
        "class_weights={0:1,1:1,2:1,3:1,4:0.5,5:1,6:1}"
      ],
      "execution_count": null,
      "outputs": []
    },
    {
      "cell_type": "code",
      "metadata": {
        "id": "LnHFC2AzYSND",
        "colab": {
          "base_uri": "https://localhost:8080/"
        },
        "outputId": "bac44ecf-df99-4bef-cbce-79e1400209fe"
      },
      "source": [
        "model.fit(xtrain,ytrain,epochs=30,validation_data=(xtest,ytest),callbacks=[reduce_lr,early],class_weight=class_weights)"
      ],
      "execution_count": null,
      "outputs": [
        {
          "output_type": "stream",
          "text": [
            "Epoch 1/30\n",
            "282/282 [==============================] - 12s 13ms/step - loss: 1.3463 - accuracy: 0.7378 - val_loss: 2.5499 - val_accuracy: 0.1427\n",
            "Epoch 2/30\n",
            "282/282 [==============================] - 3s 10ms/step - loss: 0.7592 - accuracy: 0.8274 - val_loss: 1.2884 - val_accuracy: 0.6786\n",
            "Epoch 3/30\n",
            "282/282 [==============================] - 3s 10ms/step - loss: 0.7547 - accuracy: 0.8293 - val_loss: 0.8545 - val_accuracy: 0.8603\n",
            "\n",
            "Epoch 00003: ReduceLROnPlateau reducing learning rate to 0.0005000000237487257.\n",
            "Epoch 4/30\n",
            "282/282 [==============================] - 3s 10ms/step - loss: 0.6604 - accuracy: 0.8580 - val_loss: 0.9226 - val_accuracy: 0.8004\n",
            "Epoch 5/30\n",
            "282/282 [==============================] - 3s 10ms/step - loss: 0.6124 - accuracy: 0.8701 - val_loss: 0.7804 - val_accuracy: 0.8603\n",
            "\n",
            "Epoch 00005: ReduceLROnPlateau reducing learning rate to 0.0002500000118743628.\n",
            "Epoch 6/30\n",
            "282/282 [==============================] - 3s 10ms/step - loss: 0.5822 - accuracy: 0.8842 - val_loss: 0.7353 - val_accuracy: 0.8723\n",
            "Epoch 7/30\n",
            "282/282 [==============================] - 3s 11ms/step - loss: 0.5612 - accuracy: 0.8905 - val_loss: 0.6982 - val_accuracy: 0.8832\n",
            "\n",
            "Epoch 00007: ReduceLROnPlateau reducing learning rate to 0.0001250000059371814.\n",
            "Epoch 8/30\n",
            "282/282 [==============================] - 3s 11ms/step - loss: 0.5337 - accuracy: 0.8979 - val_loss: 0.6919 - val_accuracy: 0.8872\n",
            "Epoch 9/30\n",
            "282/282 [==============================] - 3s 11ms/step - loss: 0.5280 - accuracy: 0.8952 - val_loss: 0.7015 - val_accuracy: 0.8852\n",
            "\n",
            "Epoch 00009: ReduceLROnPlateau reducing learning rate to 0.0001.\n",
            "Epoch 10/30\n",
            "282/282 [==============================] - 3s 11ms/step - loss: 0.5278 - accuracy: 0.8998 - val_loss: 0.6818 - val_accuracy: 0.8902\n",
            "Epoch 11/30\n",
            "282/282 [==============================] - 3s 11ms/step - loss: 0.4987 - accuracy: 0.9083 - val_loss: 0.6628 - val_accuracy: 0.8952\n",
            "Epoch 12/30\n",
            "282/282 [==============================] - 3s 11ms/step - loss: 0.4869 - accuracy: 0.9117 - val_loss: 0.7043 - val_accuracy: 0.8862\n",
            "Epoch 13/30\n",
            "282/282 [==============================] - 3s 11ms/step - loss: 0.4936 - accuracy: 0.9061 - val_loss: 0.6788 - val_accuracy: 0.8852\n",
            "Epoch 14/30\n",
            "282/282 [==============================] - 3s 11ms/step - loss: 0.4825 - accuracy: 0.9150 - val_loss: 0.6512 - val_accuracy: 0.9012\n",
            "Epoch 15/30\n",
            "282/282 [==============================] - 3s 11ms/step - loss: 0.4899 - accuracy: 0.9082 - val_loss: 0.6718 - val_accuracy: 0.8982\n",
            "Epoch 16/30\n",
            "282/282 [==============================] - 3s 11ms/step - loss: 0.4756 - accuracy: 0.9135 - val_loss: 0.6737 - val_accuracy: 0.9002\n",
            "Epoch 17/30\n",
            "282/282 [==============================] - 3s 11ms/step - loss: 0.4663 - accuracy: 0.9181 - val_loss: 0.7010 - val_accuracy: 0.8862\n",
            "Epoch 18/30\n",
            "282/282 [==============================] - 3s 11ms/step - loss: 0.4528 - accuracy: 0.9245 - val_loss: 0.6727 - val_accuracy: 0.8902\n",
            "Epoch 19/30\n",
            "282/282 [==============================] - 3s 11ms/step - loss: 0.4519 - accuracy: 0.9246 - val_loss: 0.6688 - val_accuracy: 0.9012\n",
            "Epoch 20/30\n",
            "282/282 [==============================] - 3s 11ms/step - loss: 0.4277 - accuracy: 0.9239 - val_loss: 0.6648 - val_accuracy: 0.9032\n",
            "Epoch 21/30\n",
            "282/282 [==============================] - 3s 11ms/step - loss: 0.4197 - accuracy: 0.9313 - val_loss: 0.7118 - val_accuracy: 0.8962\n",
            "Epoch 22/30\n",
            "282/282 [==============================] - 3s 11ms/step - loss: 0.4143 - accuracy: 0.9359 - val_loss: 0.7264 - val_accuracy: 0.8882\n",
            "Epoch 23/30\n",
            "282/282 [==============================] - 3s 11ms/step - loss: 0.3962 - accuracy: 0.9383 - val_loss: 0.6980 - val_accuracy: 0.8922\n",
            "Epoch 24/30\n",
            "282/282 [==============================] - 3s 11ms/step - loss: 0.3915 - accuracy: 0.9402 - val_loss: 0.6809 - val_accuracy: 0.9042\n",
            "Epoch 25/30\n",
            "282/282 [==============================] - 3s 11ms/step - loss: 0.3772 - accuracy: 0.9473 - val_loss: 0.6821 - val_accuracy: 0.9012\n",
            "Epoch 26/30\n",
            "282/282 [==============================] - 3s 11ms/step - loss: 0.3807 - accuracy: 0.9395 - val_loss: 0.8031 - val_accuracy: 0.8723\n",
            "Epoch 27/30\n",
            "282/282 [==============================] - 3s 10ms/step - loss: 0.3666 - accuracy: 0.9418 - val_loss: 0.7098 - val_accuracy: 0.9012\n",
            "Epoch 28/30\n",
            "282/282 [==============================] - 3s 11ms/step - loss: 0.3578 - accuracy: 0.9490 - val_loss: 0.7240 - val_accuracy: 0.9002\n",
            "Epoch 29/30\n",
            "282/282 [==============================] - 3s 10ms/step - loss: 0.3385 - accuracy: 0.9563 - val_loss: 0.7220 - val_accuracy: 0.9032\n",
            "Epoch 30/30\n",
            "282/282 [==============================] - 3s 11ms/step - loss: 0.3420 - accuracy: 0.9526 - val_loss: 0.7258 - val_accuracy: 0.9002\n"
          ],
          "name": "stdout"
        },
        {
          "output_type": "execute_result",
          "data": {
            "text/plain": [
              "<tensorflow.python.keras.callbacks.History at 0x7face65ac5d0>"
            ]
          },
          "metadata": {
            "tags": []
          },
          "execution_count": 30
        }
      ]
    },
    {
      "cell_type": "markdown",
      "metadata": {
        "id": "v-sTm885fgz3"
      },
      "source": [
        "# **Evaluation**\n"
      ]
    },
    {
      "cell_type": "code",
      "metadata": {
        "id": "b0RcCwSstI9U",
        "colab": {
          "base_uri": "https://localhost:8080/",
          "height": 300
        },
        "outputId": "0f0066b3-3b20-42ba-b923-36dece2207a0"
      },
      "source": [
        "plt.figure(figsize=(15,10))\n",
        "loss=pd.DataFrame(model.history.history)\n",
        "loss[['accuracy','val_accuracy']].plot()"
      ],
      "execution_count": null,
      "outputs": [
        {
          "output_type": "execute_result",
          "data": {
            "text/plain": [
              "<matplotlib.axes._subplots.AxesSubplot at 0x7face694ab10>"
            ]
          },
          "metadata": {
            "tags": []
          },
          "execution_count": 32
        },
        {
          "output_type": "display_data",
          "data": {
            "text/plain": [
              "<Figure size 1080x720 with 0 Axes>"
            ]
          },
          "metadata": {
            "tags": []
          }
        },
        {
          "output_type": "display_data",
          "data": {
            "image/png": "[encoded data removed]",
            "text/plain": [
              "<Figure size 432x288 with 1 Axes>"
            ]
          },
          "metadata": {
            "tags": [],
            "needs_background": "light"
          }
        }
      ]
    },
    {
      "cell_type": "code",
      "metadata": {
        "id": "ssWpO0srJldW",
        "colab": {
          "base_uri": "https://localhost:8080/",
          "height": 300
        },
        "outputId": "d0c95663-132c-42ce-f472-9631a98fec3f"
      },
      "source": [
        "plt.figure(figsize=(15,10))\n",
        "loss[['loss','val_loss']].plot()"
      ],
      "execution_count": null,
      "outputs": [
        {
          "output_type": "execute_result",
          "data": {
            "text/plain": [
              "<matplotlib.axes._subplots.AxesSubplot at 0x7face69f0410>"
            ]
          },
          "metadata": {
            "tags": []
          },
          "execution_count": 33
        },
        {
          "output_type": "display_data",
          "data": {
            "text/plain": [
              "<Figure size 1080x720 with 0 Axes>"
            ]
          },
          "metadata": {
            "tags": []
          }
        },
        {
          "output_type": "display_data",
          "data": {
            "image/png": "[encoded data removed]",
            "text/plain": [
              "<Figure size 432x288 with 1 Axes>"
            ]
          },
          "metadata": {
            "tags": [],
            "needs_background": "light"
          }
        }
      ]
    },
    {
      "cell_type": "code",
      "metadata": {
        "id": "Rb37VRprLlxv"
      },
      "source": [
        "decode={\n",
        "    0:'Actinic keratosis',\n",
        "    1:'Basal cell carcinoma',\n",
        "    2:'Benign keratosis-like lesions',\n",
        "    3:'Dermatofibroma',\n",
        "    4:'Melanocytic nevi',\n",
        "    5:'Melanoma',\n",
        "    6:'Vascular lesion'  \n",
        "}"
      ],
      "execution_count": null,
      "outputs": []
    },
    {
      "cell_type": "code",
      "metadata": {
        "id": "ta-210noJngc",
        "colab": {
          "base_uri": "https://localhost:8080/",
          "height": 501
        },
        "outputId": "9450ee32-d690-4e3a-addf-cf6574be47f3"
      },
      "source": [
        "plt.figure(figsize=(10,8))\n",
        "\n",
        "pred=model.predict(xtest)\n",
        "\n",
        "from sklearn.metrics import roc_curve,auc\n",
        "fpr = dict()\n",
        "tpr = dict()\n",
        "roc_auc = dict()\n",
        "for i in range(7):\n",
        "    fpr[i], tpr[i], _ = roc_curve(ytest[:, i], pred[:, i])\n",
        "    roc_auc[i] = auc(fpr[i], tpr[i])\n",
        "\n",
        "for i in range(7):\n",
        "    plt.plot(fpr[i],tpr[i],label=decode[i],linewidth=2)\n",
        "plt.plot([0, 1], [0, 1], 'k--', lw=2,label='random guess')\n",
        "plt.legend(loc=\"lower right\")"
      ],
      "execution_count": null,
      "outputs": [
        {
          "output_type": "execute_result",
          "data": {
            "text/plain": [
              "<matplotlib.legend.Legend at 0x7fad04fecf50>"
            ]
          },
          "metadata": {
            "tags": []
          },
          "execution_count": 37
        },
        {
          "output_type": "display_data",
          "data": {
            "image/png": "[encoded data removed]",
            "text/plain": [
              "<Figure size 720x576 with 1 Axes>"
            ]
          },
          "metadata": {
            "tags": [],
            "needs_background": "light"
          }
        }
      ]
    },
    {
      "cell_type": "code",
      "metadata": {
        "id": "bVdsYO7DtN-m",
        "colab": {
          "base_uri": "https://localhost:8080/"
        },
        "outputId": "92639e52-38d9-4097-e4cd-76d48f22ffa1"
      },
      "source": [
        "from sklearn.metrics import classification_report,confusion_matrix\n",
        "\n",
        "predictions=model.predict_classes(xtest)\n",
        "\n",
        "check=[]\n",
        "for i in range(len(ytest)):\n",
        "  for j in range(7):\n",
        "    if(ytest[i][j]==1):\n",
        "      check.append(j)\n",
        "check=np.asarray(check)\n",
        "print(classification_report(check,predictions))"
      ],
      "execution_count": null,
      "outputs": [
        {
          "output_type": "stream",
          "text": [
            "              precision    recall  f1-score   support\n",
            "\n",
            "           0       0.46      0.39      0.43        33\n",
            "           1       0.51      0.47      0.49        51\n",
            "           2       0.48      0.58      0.52       110\n",
            "           3       0.25      0.08      0.12        12\n",
            "           4       0.90      0.86      0.88       671\n",
            "           5       0.86      0.86      0.86        14\n",
            "           6       0.45      0.56      0.50       111\n",
            "\n",
            "    accuracy                           0.75      1002\n",
            "   macro avg       0.56      0.54      0.54      1002\n",
            "weighted avg       0.76      0.75      0.75      1002\n",
            "\n"
          ],
          "name": "stdout"
        },
        {
          "output_type": "stream",
          "text": [
            "/usr/local/lib/python3.7/dist-packages/tensorflow/python/keras/engine/sequential.py:450: UserWarning: `model.predict_classes()` is deprecated and will be removed after 2021-01-01. Please use instead:* `np.argmax(model.predict(x), axis=-1)`,   if your model does multi-class classification   (e.g. if it uses a `softmax` last-layer activation).* `(model.predict(x) > 0.5).astype(\"int32\")`,   if your model does binary classification   (e.g. if it uses a `sigmoid` last-layer activation).\n",
            "  warnings.warn('`model.predict_classes()` is deprecated and '\n"
          ],
          "name": "stderr"
        }
      ]
    },
    {
      "cell_type": "code",
      "metadata": {
        "id": "9R9--cHGKt1a",
        "colab": {
          "base_uri": "https://localhost:8080/"
        },
        "outputId": "087c549e-5e3b-41e3-8ac1-c6e3c0789113"
      },
      "source": [
        "from tensorflow.keras.applications.resnet50 import preprocess_input, decode_predictions\r\n",
        "from tensorflow.keras.preprocessing import image\r\n",
        "from PIL import Image\r\n",
        "img = Image.open('/content/_ml.jpg')\r\n",
        "img = img.resize((28,28))\r\n",
        "img = np.array(img)\r\n",
        "img = img / 255.0\r\n",
        "img = img.reshape(1,28,28,3)\r\n",
        "\r\n",
        "preds = model.predict(img)\r\n",
        "print(preds)\r\n",
        "preds=np.around(preds, decimals = 3) \r\n",
        "max_value=max(preds[0])\r\n",
        "print(max_value)\r\n",
        "def index(array, item):\r\n",
        "    for idx, val in np.ndenumerate(array):\r\n",
        "        if val == item:\r\n",
        "            return idx\r\n",
        "result=index(preds,max_value)[1]\r\n",
        "print(decode[result])\r\n"
      ],
      "execution_count": null,
      "outputs": [
        {
          "output_type": "stream",
          "text": [
            "[[2.6798521e-16 5.8132685e-09 1.1953059e-12 9.8239017e-09 5.6583283e-04\n",
            "  9.9943417e-01 3.5880504e-08]]\n",
            "0.999\n",
            "Melanoma\n"
          ],
          "name": "stdout"
        }
      ]
    },
    {
      "cell_type": "code",
      "metadata": {
        "id": "MQgfhx4zasYu"
      },
      "source": [
        ""
      ],
      "execution_count": null,
      "outputs": []
    }
  ]
}