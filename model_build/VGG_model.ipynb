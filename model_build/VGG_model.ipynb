{
  "nbformat": 4,
  "nbformat_minor": 0,
  "metadata": {
    "colab": {
      "name": "Copy of detection_model.ipynb",
      "provenance": [],
      "collapsed_sections": [],
      "toc_visible": true,
      "include_colab_link": true
    },
    "kernelspec": {
      "display_name": "Python 3",
      "language": "python",
      "name": "python3"
    },
    "language_info": {
      "codemirror_mode": {
        "name": "ipython",
        "version": 3
      },
      "file_extension": ".py",
      "mimetype": "text/x-python",
      "name": "python",
      "nbconvert_exporter": "python",
      "pygments_lexer": "ipython3",
      "version": "3.7.6"
    }
  },
  "cells": [
    {
      "cell_type": "markdown",
      "metadata": {
        "id": "view-in-github",
        "colab_type": "text"
      },
      "source": [
        "<a href=\"https://colab.research.google.com/github/mahenoor22/skin-disease-build/blob/main/model_build/VGG_model.ipynb\" target=\"_parent\"><img src=\"https://colab.research.google.com/assets/colab-badge.svg\" alt=\"Open In Colab\"/></a>"
      ]
    },
    {
      "cell_type": "code",
      "metadata": {
        "id": "yaQy9wAcWwgb"
      },
      "source": [
        "import tensorflow as tf\n",
        "import pandas as pd\n",
        "import numpy as np\n",
        "import matplotlib.pyplot as plt\n",
        "import matplotlib.image as mpimg\n",
        "import os\n",
        "import random\n",
        "from tensorflow.keras.models import Model\n",
        "from tensorflow.keras.models import Sequential\n",
        "from tensorflow.keras.layers import Dense, Dropout, Flatten, Conv2D, MaxPool2D\n",
        "from tensorflow.keras.optimizers import Adam\n",
        "from tensorflow.keras.preprocessing.image import ImageDataGenerator\n",
        "from tensorflow.keras.callbacks import ReduceLROnPlateau, EarlyStopping\n",
        "from sklearn.model_selection import train_test_split\n",
        "\n",
        "from sklearn.model_selection import GridSearchCV\n",
        "from tensorflow.keras.applications.vgg16 import VGG16\n",
        "\n",
        "from tensorflow.keras.applications.resnet50 import ResNet50"
      ],
      "execution_count": 1,
      "outputs": []
    },
    {
      "cell_type": "markdown",
      "metadata": {
        "id": "_dgUNafoUj-F"
      },
      "source": [
        "# **CallBack**"
      ]
    },
    {
      "cell_type": "code",
      "metadata": {
        "id": "c12Np8W_UjX8"
      },
      "source": [
        "class myCallback(tf.keras.callbacks.Callback):\n",
        "    def on_epoch_end(self, epoch, logs={}):\n",
        "        if(logs.get('acc')>0.70):\n",
        "            print(\"\\nReached 70.0% accuracy so cancelling training!\")\n",
        "            self.model.stop_training = True"
      ],
      "execution_count": 2,
      "outputs": []
    },
    {
      "cell_type": "markdown",
      "metadata": {
        "id": "3Wldr7iY3CW1"
      },
      "source": [
        "## **Import Dataset**"
      ]
    },
    {
      "cell_type": "code",
      "metadata": {
        "colab": {
          "base_uri": "https://localhost:8080/"
        },
        "id": "1ifUVWYp0vEA",
        "outputId": "32e96a69-62b6-490c-9e64-4fedd10bbf6e"
      },
      "source": [
        "!git clone https://github.com/mahenoor22/skin-disease-build.git"
      ],
      "execution_count": 3,
      "outputs": [
        {
          "output_type": "stream",
          "text": [
            "fatal: destination path 'skin-disease-build' already exists and is not an empty directory.\n"
          ],
          "name": "stdout"
        }
      ]
    },
    {
      "cell_type": "code",
      "metadata": {
        "id": "vXr6YPZB9Lcq"
      },
      "source": [
        "train_dir = r\"/content/skin-disease-build/dataset/train\"\n",
        "test_dir=r\"/content/skin-disease-build/dataset/test\""
      ],
      "execution_count": 4,
      "outputs": []
    },
    {
      "cell_type": "code",
      "metadata": {
        "id": "7cTDWOkqjYCK"
      },
      "source": [
        "assert len(os.listdir(train_dir)) == 23 and len(os.listdir(test_dir)) == 23"
      ],
      "execution_count": 5,
      "outputs": []
    },
    {
      "cell_type": "markdown",
      "metadata": {
        "id": "qgVgkjkVEMX2"
      },
      "source": [
        "# **Image Generator**"
      ]
    },
    {
      "cell_type": "code",
      "metadata": {
        "colab": {
          "base_uri": "https://localhost:8080/"
        },
        "id": "ZVsieuoFSGL5",
        "outputId": "335c7650-36a2-479f-d13c-7c169200ac6d"
      },
      "source": [
        "datagen = ImageDataGenerator(\n",
        "        featurewise_center=False,  # set input mean to 0 over the dataset\n",
        "        samplewise_center=False,  # set each sample mean to 0\n",
        "        featurewise_std_normalization=False,  # divide inputs by std of the dataset\n",
        "        samplewise_std_normalization=False,  # divide each input by its std\n",
        "        zca_whitening=False,  # apply ZCA whitening\n",
        "        rotation_range=10,  # randomly rotate images in the range (degrees, 0 to 180)\n",
        "        zoom_range = 0.1, # Randomly zoom image \n",
        "        width_shift_range=0.1,  # randomly shift images horizontally (fraction of total width)\n",
        "        height_shift_range=0.1,  # randomly shift images vertically (fraction of total height)\n",
        "        horizontal_flip=True,  # randomly flip images\n",
        "        vertical_flip=True,   # randomly flip images\n",
        "        validation_split = 0.2)\n",
        "\n",
        "train_gen = datagen.flow_from_directory(train_dir,\n",
        "                                       batch_size=32,\n",
        "                                       class_mode='sparse',\n",
        "                                       target_size=(200,200),\n",
        "                                       subset = 'training')\n",
        "valid_gen = datagen.flow_from_directory(train_dir,\n",
        "                                       batch_size=32,\n",
        "                                       class_mode='sparse',\n",
        "                                       target_size=(200,200),\n",
        "                                       subset = 'validation')\n"
      ],
      "execution_count": 6,
      "outputs": [
        {
          "output_type": "stream",
          "text": [
            "Found 12453 images belonging to 23 classes.\n",
            "Found 3104 images belonging to 23 classes.\n"
          ],
          "name": "stdout"
        }
      ]
    },
    {
      "cell_type": "markdown",
      "metadata": {
        "id": "6HLbLgulQqJk"
      },
      "source": [
        "## Model"
      ]
    },
    {
      "cell_type": "code",
      "metadata": {
        "id": "53-Be7c1R0BZ",
        "colab": {
          "base_uri": "https://localhost:8080/"
        },
        "outputId": "98d34fe6-2113-4deb-821f-b88b6932baa0"
      },
      "source": [
        "base_model = VGG16(include_top = False, input_shape = (200,200,3),pooling='avg')\n",
        "model=Sequential()\n",
        "model.add(base_model)\n",
        "model.add(Dense(128,activation=('relu')))\n",
        "model.add(Dropout(0.5))\n",
        "model.add(Dense(23,activation=('softmax'))) \n",
        "\n",
        "\n",
        "for layer in base_model.layers:\n",
        "    layer.trainable = False\n",
        "\n",
        "\n",
        "optimizer = Adam(lr=0.001, beta_1=0.9, beta_2=0.999, epsilon=None, decay=0.0, amsgrad=False)\n",
        "\n",
        "model.compile(optimizer = optimizer , loss = \"sparse_categorical_crossentropy\", metrics=[\"sparse_categorical_accuracy\"])\n",
        "epochs = 40\n",
        "model.summary()"
      ],
      "execution_count": 7,
      "outputs": [
        {
          "output_type": "stream",
          "text": [
            "Model: \"sequential\"\n",
            "_________________________________________________________________\n",
            "Layer (type)                 Output Shape              Param #   \n",
            "=================================================================\n",
            "vgg16 (Functional)           (None, 512)               14714688  \n",
            "_________________________________________________________________\n",
            "dense (Dense)                (None, 128)               65664     \n",
            "_________________________________________________________________\n",
            "dropout (Dropout)            (None, 128)               0         \n",
            "_________________________________________________________________\n",
            "dense_1 (Dense)              (None, 23)                2967      \n",
            "=================================================================\n",
            "Total params: 14,783,319\n",
            "Trainable params: 68,631\n",
            "Non-trainable params: 14,714,688\n",
            "_________________________________________________________________\n"
          ],
          "name": "stdout"
        }
      ]
    },
    {
      "cell_type": "code",
      "metadata": {
        "colab": {
          "base_uri": "https://localhost:8080/"
        },
        "id": "tfJOTVWHrvgT",
        "outputId": "bf1260a7-eba1-4715-b1d8-5a3ae110ca89"
      },
      "source": [
        "history = model.fit_generator(train_gen,epochs = epochs,\r\n",
        "                             validation_data = valid_gen,\r\n",
        "                             steps_per_epoch = train_gen.n//train_gen.batch_size,\r\n",
        "                             validation_steps = valid_gen.n//valid_gen.batch_size)\r\n"
      ],
      "execution_count": null,
      "outputs": [
        {
          "output_type": "stream",
          "text": [
            "/usr/local/lib/python3.6/dist-packages/tensorflow/python/keras/engine/training.py:1844: UserWarning: `Model.fit_generator` is deprecated and will be removed in a future version. Please use `Model.fit`, which supports generators.\n",
            "  warnings.warn('`Model.fit_generator` is deprecated and '\n"
          ],
          "name": "stderr"
        },
        {
          "output_type": "stream",
          "text": [
            "Epoch 1/40\n",
            "246/389 [=================>............] - ETA: 31:01 - loss: 4.4198 - sparse_categorical_accuracy: 0.1019"
          ],
          "name": "stdout"
        }
      ]
    },
    {
      "cell_type": "markdown",
      "metadata": {
        "id": "VfDvJMXdlcyG"
      },
      "source": [
        "## **GRAPH**"
      ]
    },
    {
      "cell_type": "code",
      "metadata": {
        "id": "FT0RwFaOSmL2"
      },
      "source": [
        "%matplotlib inline\n",
        "import matplotlib.pyplot as plt\n",
        "acc = history.history['categorical_accuracy']\n",
        "val_acc = history.history['val_sparse_categorical_accuracy']\n",
        "loss = history.history['loss']\n",
        "val_loss = history.history['val_loss']\n",
        "\n",
        "epochs = range(len(acc))\n",
        "\n",
        "plt.plot(epochs, acc, 'r', label='Training accuracy')\n",
        "plt.plot(epochs, val_acc, 'b', label='Validation accuracy')\n",
        "plt.title('Training and validation accuracy')\n",
        "plt.legend(loc=0)\n",
        "plt.figure()\n",
        "\n",
        "\n",
        "plt.show()"
      ],
      "execution_count": null,
      "outputs": []
    },
    {
      "cell_type": "code",
      "metadata": {
        "id": "G1HghUaklhZh"
      },
      "source": [
        ""
      ],
      "execution_count": null,
      "outputs": []
    }
  ]
}